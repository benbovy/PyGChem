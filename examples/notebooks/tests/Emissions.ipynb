{
 "metadata": {
  "name": "",
  "signature": "sha256:9a3fe50ad0709e2881252c31931f602a79554e190a4152cb4e22aee3808e1e02"
 },
 "nbformat": 3,
 "nbformat_minor": 0,
 "worksheets": [
  {
   "cells": [
    {
     "cell_type": "code",
     "collapsed": false,
     "input": [
      "from pygchem import emissions"
     ],
     "language": "python",
     "metadata": {},
     "outputs": [],
     "prompt_number": 1
    },
    {
     "cell_type": "code",
     "collapsed": false,
     "input": [
      "bef_test = emissions.EmissionBase('name', 'file.nc', 'the var name', 3, 'm', '*/*/*/*', 'O3', 2, 2)\n",
      "bef_test"
     ],
     "language": "python",
     "metadata": {},
     "outputs": [
      {
       "metadata": {},
       "output_type": "pyout",
       "prompt_number": 2,
       "text": [
        "EmissionBase(name=name, filename=file.nc, var_name=the var name, ndim=3, units=m, timeslicer=*/*/*/*, species=O3, category=2, hierarchy=2, datafield=None, scale_factors=List of 0 EmissionScale or EmssionMask:\n",
        ")"
       ]
      }
     ],
     "prompt_number": 2
    },
    {
     "cell_type": "code",
     "collapsed": false,
     "input": [
      "sf_test = emissions.EmissionScale('name_sf', 'file2.nc', 'another var name', 3, 'km', '*/*/*/*',\n",
      "                                  operator=':')\n",
      "sf_test"
     ],
     "language": "python",
     "metadata": {},
     "outputs": [
      {
       "metadata": {},
       "output_type": "pyout",
       "prompt_number": 3,
       "text": [
        "EmissionScale(name=name_sf, filename=file2.nc, var_name=another var name, ndim=3, units=km, timeslicer=*/*/*/*, datafield=None, operator=:, fid=None)"
       ]
      }
     ],
     "prompt_number": 3
    },
    {
     "cell_type": "code",
     "collapsed": false,
     "input": [
      "bef_test.scale_factors.append(sf_test)\n",
      "bef_test"
     ],
     "language": "python",
     "metadata": {},
     "outputs": [
      {
       "metadata": {},
       "output_type": "pyout",
       "prompt_number": 4,
       "text": [
        "EmissionBase(name=name, filename=file.nc, var_name=the var name, ndim=3, units=m, timeslicer=*/*/*/*, species=O3, category=2, hierarchy=2, datafield=None, scale_factors=List of 1 EmissionScale or EmssionMask:\n",
        "EmissionScale(name=name_sf, filename=file2.nc, var_name=another var name, ndim=3, units=km, timeslicer=*/*/*/*, datafield=None, operator=:, fid=None))"
       ]
      }
     ],
     "prompt_number": 4
    },
    {
     "cell_type": "code",
     "collapsed": false,
     "input": [
      "print bef_test.scale_factors"
     ],
     "language": "python",
     "metadata": {},
     "outputs": [
      {
       "output_type": "stream",
       "stream": "stdout",
       "text": [
        "List of 1 EmissionScale or EmssionMask:\n",
        "EmissionScale(name=name_sf, filename=file2.nc, var_name=another var name, ndim=3, units=km, timeslicer=*/*/*/*, datafield=None, operator=:, fid=None)\n"
       ]
      }
     ],
     "prompt_number": 5
    },
    {
     "cell_type": "code",
     "collapsed": false,
     "input": [],
     "language": "python",
     "metadata": {},
     "outputs": [],
     "prompt_number": 6
    },
    {
     "cell_type": "code",
     "collapsed": false,
     "input": [],
     "language": "python",
     "metadata": {},
     "outputs": [],
     "prompt_number": 5
    }
   ],
   "metadata": {}
  }
 ]
}