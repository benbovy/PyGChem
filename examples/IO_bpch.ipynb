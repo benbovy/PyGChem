{
 "metadata": {
  "name": "",
  "signature": "sha256:e26015bff7abb350358a03e58bd6543fed404f569ab4c2f02a1e9d931ade8f73"
 },
 "nbformat": 3,
 "nbformat_minor": 0,
 "worksheets": [
  {
   "cells": [
    {
     "cell_type": "code",
     "collapsed": false,
     "input": [
      "from pygchem.io import bpch\n",
      "import numpy as np"
     ],
     "language": "python",
     "metadata": {},
     "outputs": [],
     "prompt_number": 1
    },
    {
     "cell_type": "code",
     "collapsed": false,
     "input": [
      "#%cd /home/data/GEOS-Chem/GEOS-Chem-rundirs/4x5/geos5/standard/\n",
      "%cd /home/benbovy/Aldebaran/ScientificResearch/geoschem/GEOS-Chem-rundirs/4x5/geos5/standard/\n",
      "ctm_filename = 'ctm.bpch'"
     ],
     "language": "python",
     "metadata": {},
     "outputs": [
      {
       "output_type": "stream",
       "stream": "stdout",
       "text": [
        "/mnt/hgfs/Aldebaran/ScientificResearch/geoschem/GEOS-Chem-rundirs/4x5/geos5/standard\n"
       ]
      }
     ],
     "prompt_number": 2
    },
    {
     "cell_type": "code",
     "collapsed": false,
     "input": [
      "%timeit bpch.read_bpch(ctm_filename)"
     ],
     "language": "python",
     "metadata": {},
     "outputs": [
      {
       "output_type": "stream",
       "stream": "stdout",
       "text": [
        "1 loops, best of 3: 168 ms per loop\n"
       ]
      }
     ],
     "prompt_number": 3
    },
    {
     "cell_type": "code",
     "collapsed": false,
     "input": [
      "%timeit bpch.read_bpch(ctm_filename, skip_data=False)"
     ],
     "language": "python",
     "metadata": {},
     "outputs": [
      {
       "output_type": "stream",
       "stream": "stdout",
       "text": [
        "1 loops, best of 3: 3.8 s per loop\n"
       ]
      }
     ],
     "prompt_number": 4
    },
    {
     "cell_type": "code",
     "collapsed": false,
     "input": [
      "filetype, title, datablocks = bpch.read_bpch(ctm_filename)"
     ],
     "language": "python",
     "metadata": {},
     "outputs": [],
     "prompt_number": 5
    },
    {
     "cell_type": "code",
     "collapsed": false,
     "input": [
      "filetype"
     ],
     "language": "python",
     "metadata": {},
     "outputs": [
      {
       "metadata": {},
       "output_type": "pyout",
       "prompt_number": 6,
       "text": [
        "'CTM bin 02'"
       ]
      }
     ],
     "prompt_number": 6
    },
    {
     "cell_type": "code",
     "collapsed": false,
     "input": [
      "title"
     ],
     "language": "python",
     "metadata": {},
     "outputs": [
      {
       "metadata": {},
       "output_type": "pyout",
       "prompt_number": 7,
       "text": [
        "'GEOS-CHEM binary punch file v. 2.0'"
       ]
      }
     ],
     "prompt_number": 7
    },
    {
     "cell_type": "code",
     "collapsed": false,
     "input": [
      "print len(datablocks)\n",
      "datablocks[0]"
     ],
     "language": "python",
     "metadata": {},
     "outputs": [
      {
       "output_type": "stream",
       "stream": "stdout",
       "text": [
        "285\n"
       ]
      },
      {
       "metadata": {},
       "output_type": "pyout",
       "prompt_number": 8,
       "text": [
        "{'category': 'DUSTSRCE',\n",
        " 'center180': True,\n",
        " 'data': <BPCHDataProxy shape=(72, 46) dtype='f' path='/mnt/hgfs/Aldebaran/ScientificResearch/geoschem/GEOS-Chem-rundirs/4x5/geos5/standard/ctm.bpch' file_position=356 scale_factor=1.0>,\n",
        " 'diaginfo': {'description': 'Dust emission',\n",
        "  'name': 'DUSTSRCE',\n",
        "  'offset': 4000},\n",
        " 'file_position': 356,\n",
        " 'halfpolar': True,\n",
        " 'loaded_from_file': '/mnt/hgfs/Aldebaran/ScientificResearch/geoschem/GEOS-Chem-rundirs/4x5/geos5/standard/ctm.bpch',\n",
        " 'modelname': 'GEOS5_47L',\n",
        " 'name': 'DST1',\n",
        " 'number': 38,\n",
        " 'origin': (1, 1, 1),\n",
        " 'resolution': (5.0, 4.0),\n",
        " 'save_to_file': '',\n",
        " 'shape': (72, 46),\n",
        " 'times': (datetime.datetime(2005, 7, 1, 0, 0),\n",
        "  datetime.datetime(2005, 8, 1, 0, 0)),\n",
        " 'tracerinfo': {'carbon_weight': 1,\n",
        "  'chemical': True,\n",
        "  'full_name': 'DST1 tracer',\n",
        "  'hydrocarbon': False,\n",
        "  'molecular_weight': 0.029,\n",
        "  'name': 'DST1',\n",
        "  'number': 4038,\n",
        "  'scale': 1.0,\n",
        "  'unit': 'kg'},\n",
        " 'unit': 'kg'}"
       ]
      }
     ],
     "prompt_number": 8
    },
    {
     "cell_type": "code",
     "collapsed": false,
     "input": [
      "dust_source = datablocks[0]\n",
      "dust_source['data'].data"
     ],
     "language": "python",
     "metadata": {},
     "outputs": [
      {
       "metadata": {},
       "output_type": "pyout",
       "prompt_number": 9,
       "text": [
        "array([[ 0.,  0.,  0., ...,  0.,  0.,  0.],\n",
        "       [ 0.,  0.,  0., ...,  0.,  0.,  0.],\n",
        "       [ 0.,  0.,  0., ...,  0.,  0.,  0.],\n",
        "       ..., \n",
        "       [ 0.,  0.,  0., ...,  0.,  0.,  0.],\n",
        "       [ 0.,  0.,  0., ...,  0.,  0.,  0.],\n",
        "       [ 0.,  0.,  0., ...,  0.,  0.,  0.]])"
       ]
      }
     ],
     "prompt_number": 9
    },
    {
     "cell_type": "code",
     "collapsed": false,
     "input": [
      "%timeit bpch.write_bpch('ctm_test.bpch', datablocks, title, filetype)"
     ],
     "language": "python",
     "metadata": {},
     "outputs": [
      {
       "output_type": "stream",
       "stream": "stdout",
       "text": [
        "1 loops, best of 3: 8.51 s per loop\n"
       ]
      }
     ],
     "prompt_number": 10
    },
    {
     "cell_type": "code",
     "collapsed": false,
     "input": [
      "import hashlib\n",
      "\n",
      "def hashfile(afile, hasher, blocksize=65536):\n",
      "    buf = afile.read(blocksize)\n",
      "    while len(buf) > 0:\n",
      "        hasher.update(buf)\n",
      "        buf = afile.read(blocksize)\n",
      "    return hasher.hexdigest()\n",
      "\n",
      "h1 = hashfile(open('ctm.bpch', 'rb'), hashlib.sha256())\n",
      "h2 = hashfile(open('ctm_test.bpch', 'rb'), hashlib.sha256())\n",
      "print h1\n",
      "print h2"
     ],
     "language": "python",
     "metadata": {},
     "outputs": [
      {
       "output_type": "stream",
       "stream": "stdout",
       "text": [
        "6b333cc9fa074280962c4c52cc33d015fd125ca72c1e9082188011f9fdbd4a9f\n",
        "8bf0453ced5b917b164d21cd8300555186117699ec2854286b0760e6561f9d5c\n"
       ]
      }
     ],
     "prompt_number": 11
    },
    {
     "cell_type": "code",
     "collapsed": false,
     "input": [
      "!ls -all"
     ],
     "language": "python",
     "metadata": {},
     "outputs": [
      {
       "output_type": "stream",
       "stream": "stdout",
       "text": [
        "total 225505\r\n",
        "drwx------ 1 benbovy users      850 Aug  5 20:09 .\r\n",
        "drwx------ 1 benbovy users      204 Feb  3  2014 ..\r\n",
        "-rw------- 1 benbovy users      610 Feb  3  2014 chemga.dat\r\n",
        "-rw------- 1 benbovy users 87475420 Feb  3  2014 ctm.bpch\r\n",
        "-rw-r--r-- 1 benbovy users 87475420 Aug  6 15:36 ctm_test.bpch\r\n",
        "-rw------- 1 benbovy users    11110 Feb  3  2014 diaginfo.dat\r\n",
        "-rw------- 1 benbovy users     6148 Feb  3  2014 .DS_Store\r\n",
        "drwx------ 1 benbovy users      408 Feb  3  2014 .git\r\n",
        "-rw------- 1 benbovy users   154237 Feb  3  2014 globchem.dat\r\n",
        "-rw------- 1 benbovy users    88064 Feb  3  2014 globchem.db\r\n",
        "-rw------- 1 benbovy users    14197 Feb  3  2014 input.geos\r\n",
        "-rw------- 1 benbovy users   117454 Feb  3  2014 jv_atms.dat\r\n",
        "-rw------- 1 benbovy users     6600 Feb  3  2014 jv_spec_aod.dat\r\n",
        "-rw------- 1 benbovy users    33257 Feb  3  2014 jv_spec.dat\r\n",
        "-rw------- 1 benbovy users      905 Feb  3  2014 mglob.dat\r\n",
        "-rw-r--r-- 1 benbovy users   623020 Feb  3  2014 new_ctm.bpch\r\n",
        "-rw------- 1 benbovy users   623020 Feb  3  2014 Ox.mass.final\r\n",
        "-rw------- 1 benbovy users   623020 Feb  3  2014 Ox.mass.initial\r\n",
        "-rw------- 1 benbovy users     7522 Feb  3  2014 ratj.d\r\n",
        "-rw------- 1 benbovy users      351 Feb  3  2014 README\r\n",
        "-rw------- 1 benbovy users 26784148 Feb  3  2014 restart.4x5.geos5.2005070100\r\n",
        "-rw------- 1 benbovy users 26784148 Feb  3  2014 restart.4x5.geos5.2005080100\r\n",
        "-rw------- 1 benbovy users    44607 Feb  3  2014 smv2.log\r\n",
        "-rw------- 1 benbovy users    36716 Feb  3  2014 tracerinfo.dat\r\n",
        "drwx------ 1 benbovy users      340 Feb  3  2014 vtk\r\n"
       ]
      }
     ],
     "prompt_number": 12
    },
    {
     "cell_type": "code",
     "collapsed": false,
     "input": [
      "filetype2, title2, datablocks2 = bpch.read_bpch('ctm_test.bpch')"
     ],
     "language": "python",
     "metadata": {},
     "outputs": [],
     "prompt_number": 13
    },
    {
     "cell_type": "code",
     "collapsed": false,
     "input": [
      "all([np.all(d1['data'].data == d2['data'].data) for d1, d2 in zip(datablocks, datablocks2)])"
     ],
     "language": "python",
     "metadata": {},
     "outputs": [
      {
       "metadata": {},
       "output_type": "pyout",
       "prompt_number": 14,
       "text": [
        "True"
       ]
      }
     ],
     "prompt_number": 14
    },
    {
     "cell_type": "code",
     "collapsed": false,
     "input": [
      "all([d1['times'] == d2['times']for d1, d2 in zip(datablocks, datablocks2)])"
     ],
     "language": "python",
     "metadata": {},
     "outputs": [
      {
       "metadata": {},
       "output_type": "pyout",
       "prompt_number": 15,
       "text": [
        "True"
       ]
      }
     ],
     "prompt_number": 15
    },
    {
     "cell_type": "code",
     "collapsed": false,
     "input": [
      "n_air = datablocks[-1]\n",
      "n_air"
     ],
     "language": "python",
     "metadata": {},
     "outputs": [
      {
       "metadata": {},
       "output_type": "pyout",
       "prompt_number": 16,
       "text": [
        "{'category': 'BXHGHT-$',\n",
        " 'center180': True,\n",
        " 'data': <BPCHDataProxy shape=(72, 46, 47) dtype='f' path='/mnt/hgfs/Aldebaran/ScientificResearch/geoschem/GEOS-Chem-rundirs/4x5/geos5/standard/ctm.bpch' file_position=86852756 scale_factor=1.0>,\n",
        " 'diaginfo': {'description': 'Boxheight, airmass, etc',\n",
        "  'name': 'BXHGHT-$',\n",
        "  'offset': 24000},\n",
        " 'file_position': 86852756,\n",
        " 'halfpolar': True,\n",
        " 'loaded_from_file': '/mnt/hgfs/Aldebaran/ScientificResearch/geoschem/GEOS-Chem-rundirs/4x5/geos5/standard/ctm.bpch',\n",
        " 'modelname': 'GEOS5_47L',\n",
        " 'name': 'N(AIR)',\n",
        " 'number': 4,\n",
        " 'origin': (1, 1, 1),\n",
        " 'resolution': (5.0, 4.0),\n",
        " 'save_to_file': '',\n",
        " 'shape': (72, 46, 47),\n",
        " 'times': (datetime.datetime(2005, 7, 1, 0, 0),\n",
        "  datetime.datetime(2005, 8, 1, 0, 0)),\n",
        " 'tracerinfo': {'carbon_weight': 1,\n",
        "  'chemical': False,\n",
        "  'full_name': 'Number density of air',\n",
        "  'hydrocarbon': False,\n",
        "  'molecular_weight': 0.0,\n",
        "  'name': 'N(AIR)',\n",
        "  'number': 24004,\n",
        "  'scale': 1.0,\n",
        "  'unit': 'molec/m3'},\n",
        " 'unit': 'molec/m3'}"
       ]
      }
     ],
     "prompt_number": 16
    },
    {
     "cell_type": "code",
     "collapsed": false,
     "input": [
      "tes = np.arange(10*5*1).reshape((10,5,1))\n",
      "tes2 = tes.flatten('F')\n",
      "tes2.reshape((10,5), order='F') == tes.reshape((10,5))"
     ],
     "language": "python",
     "metadata": {},
     "outputs": [
      {
       "metadata": {},
       "output_type": "pyout",
       "prompt_number": 17,
       "text": [
        "array([[ True,  True,  True,  True,  True],\n",
        "       [ True,  True,  True,  True,  True],\n",
        "       [ True,  True,  True,  True,  True],\n",
        "       [ True,  True,  True,  True,  True],\n",
        "       [ True,  True,  True,  True,  True],\n",
        "       [ True,  True,  True,  True,  True],\n",
        "       [ True,  True,  True,  True,  True],\n",
        "       [ True,  True,  True,  True,  True],\n",
        "       [ True,  True,  True,  True,  True],\n",
        "       [ True,  True,  True,  True,  True]], dtype=bool)"
       ]
      }
     ],
     "prompt_number": 17
    },
    {
     "cell_type": "code",
     "collapsed": false,
     "input": [
      "datablocks[193]"
     ],
     "language": "python",
     "metadata": {},
     "outputs": [
      {
       "metadata": {},
       "output_type": "pyout",
       "prompt_number": 18,
       "text": [
        "{'category': 'IJ-AVG-$',\n",
        " 'center180': True,\n",
        " 'data': <BPCHDataProxy shape=(72, 46, 47) dtype='f' path='/mnt/hgfs/Aldebaran/ScientificResearch/geoschem/GEOS-Chem-rundirs/4x5/geos5/standard/ctm.bpch' file_position=53447048 scale_factor=1000000000.0>,\n",
        " 'diaginfo': {'description': 'Tracer concentration',\n",
        "  'name': 'IJ-AVG-$',\n",
        "  'offset': 0},\n",
        " 'file_position': 53447048,\n",
        " 'halfpolar': True,\n",
        " 'loaded_from_file': '/mnt/hgfs/Aldebaran/ScientificResearch/geoschem/GEOS-Chem-rundirs/4x5/geos5/standard/ctm.bpch',\n",
        " 'modelname': 'GEOS5_47L',\n",
        " 'name': 'Ox',\n",
        " 'number': 2,\n",
        " 'origin': (1, 1, 1),\n",
        " 'resolution': (5.0, 4.0),\n",
        " 'save_to_file': '',\n",
        " 'shape': (72, 46, 47),\n",
        " 'times': (datetime.datetime(2005, 7, 1, 0, 0),\n",
        "  datetime.datetime(2005, 8, 1, 0, 0)),\n",
        " 'tracerinfo': {'carbon_weight': 1,\n",
        "  'chemical': True,\n",
        "  'full_name': 'Ox tracer',\n",
        "  'hydrocarbon': False,\n",
        "  'molecular_weight': 0.048,\n",
        "  'name': 'Ox',\n",
        "  'number': 2,\n",
        "  'scale': 1000000000.0,\n",
        "  'unit': 'ppbv'},\n",
        " 'unit': 'ppbv'}"
       ]
      }
     ],
     "prompt_number": 18
    },
    {
     "cell_type": "code",
     "collapsed": false,
     "input": [],
     "language": "python",
     "metadata": {},
     "outputs": [],
     "prompt_number": 18
    }
   ],
   "metadata": {}
  }
 ]
}