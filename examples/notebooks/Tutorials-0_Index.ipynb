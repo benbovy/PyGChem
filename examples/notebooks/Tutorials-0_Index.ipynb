{
 "metadata": {
  "name": "",
  "signature": "sha256:9b80e1fcbec20704779741e63391e1cc0d8a7770f997aa8dd7af96309f95e958"
 },
 "nbformat": 3,
 "nbformat_minor": 0,
 "worksheets": [
  {
   "cells": [
    {
     "cell_type": "markdown",
     "metadata": {},
     "source": [
      "Top: [Index](Index.ipynb) | Prev: [Installation](Installation.ipynb) | Next: [Examples](Examples_Index.ipynb)"
     ]
    },
    {
     "cell_type": "heading",
     "level": 1,
     "metadata": {},
     "source": [
      "PyGChem Tutorials"
     ]
    },
    {
     "cell_type": "markdown",
     "metadata": {},
     "source": [
      "This section introduces the PyGChem\u2019s most noteworthy features and helps to familiarize yourself with the PyGChem's main object types and functions. For more specific use cases, check the [examples section](Examples_Index.ipynb)."
     ]
    },
    {
     "cell_type": "heading",
     "level": 2,
     "metadata": {},
     "source": [
      "Topics"
     ]
    },
    {
     "cell_type": "markdown",
     "metadata": {},
     "source": [
      "- [Datasets](Tutorials-1_Datasets.ipynb)\n",
      "- [Emissions (HEMCO)](Tutorials-2_Emissions.ipynb)"
     ]
    }
   ],
   "metadata": {}
  }
 ]
}