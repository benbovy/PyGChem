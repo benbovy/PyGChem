{
 "metadata": {
  "name": "",
  "signature": "sha256:b92de782ca1c331681c4c4f190f808a1e25d4f9c9b90f6c4186eb8d433c137ed"
 },
 "nbformat": 3,
 "nbformat_minor": 0,
 "worksheets": [
  {
   "cells": [
    {
     "cell_type": "code",
     "collapsed": false,
     "input": [
      "from pygchem.utils.data_structures import ObjectList, record_cls"
     ],
     "language": "python",
     "metadata": {},
     "outputs": [],
     "prompt_number": 1
    },
    {
     "cell_type": "code",
     "collapsed": false,
     "input": [
      "Test = record_cls(\"Test\", \"A test record\",\n",
      "                  (('id', int, 1, True, 'identifiant'),\n",
      "                   ('name', str, '', False, 'name of the thing'),\n",
      "                   ('data', None, None, False, 'the data')),\n",
      "                  required_fields=('id'),\n",
      "                  verbose=True)"
     ],
     "language": "python",
     "metadata": {},
     "outputs": [
      {
       "output_type": "stream",
       "stream": "stdout",
       "text": [
        "\n",
        "class Test(Record):\n",
        "    '''\n",
        "    A test record (record-like).\n",
        "\n",
        "    Parameters\n",
        "    ----------    \n",
        "    id : int\n",
        "        identifiant    \n",
        "    name : str\n",
        "        name of the thing    \n",
        "    data : \n",
        "        the data\n",
        "\n",
        "    '''\n",
        "\n",
        "    __slots__  = ('_id', '_name', '_data')\n",
        "    _properties = ('id', 'name', 'data')\n",
        "    _types = (int, str, None)\n",
        "\n",
        "    def __init__(self, id, name='', data=None):\n",
        "        super(Test, self).__init__(id, name, data)\n",
        "\n",
        "        \n",
        "    @property\n",
        "    def id(self):\n",
        "        '''\n",
        "        identifiant.\n",
        "        '''\n",
        "        return self._id\n",
        "        \n",
        "    @property\n",
        "    def name(self):\n",
        "        '''\n",
        "        name of the thing.\n",
        "        '''\n",
        "        return self._name\n",
        "        \n",
        "    @property\n",
        "    def data(self):\n",
        "        '''\n",
        "        the data.\n",
        "        '''\n",
        "        return self._data\n",
        "    \n",
        "        \n",
        "    @name.setter\n",
        "    def name(self, value):\n",
        "        self._name = str(value)\n",
        "        \n",
        "    @data.setter\n",
        "    def data(self, value):\n",
        "        self._data = (value)\n",
        "    \n",
        "\n",
        "    def __repr__(self):\n",
        "        return 'Test' + super(Test, self).__repr__()\n",
        "\n",
        "\n"
       ]
      }
     ],
     "prompt_number": 2
    },
    {
     "cell_type": "code",
     "collapsed": false,
     "input": [
      "testd = {'id': 1, 'name': 'Ben', 'data': [0, 1, 2]}\n",
      "testo = Test(**testd)"
     ],
     "language": "python",
     "metadata": {},
     "outputs": [],
     "prompt_number": 3
    },
    {
     "cell_type": "code",
     "collapsed": false,
     "input": [
      "testo"
     ],
     "language": "python",
     "metadata": {},
     "outputs": [
      {
       "metadata": {},
       "output_type": "pyout",
       "prompt_number": 4,
       "text": [
        "Test(id=1, name=Ben, data=[0, 1, 2])"
       ]
      }
     ],
     "prompt_number": 4
    },
    {
     "cell_type": "code",
     "collapsed": false,
     "input": [
      "testo.to_dict()"
     ],
     "language": "python",
     "metadata": {},
     "outputs": [
      {
       "metadata": {},
       "output_type": "pyout",
       "prompt_number": 5,
       "text": [
        "{'data': [0, 1, 2], 'id': 1, 'name': 'Ben'}"
       ]
      }
     ],
     "prompt_number": 5
    },
    {
     "cell_type": "code",
     "collapsed": false,
     "input": [
      "Test(**testo.to_dict())"
     ],
     "language": "python",
     "metadata": {},
     "outputs": [
      {
       "metadata": {},
       "output_type": "pyout",
       "prompt_number": 6,
       "text": [
        "Test(id=1, name=Ben, data=[0, 1, 2])"
       ]
      }
     ],
     "prompt_number": 6
    },
    {
     "cell_type": "code",
     "collapsed": false,
     "input": [
      "testo.to_dict(ordered=True)"
     ],
     "language": "python",
     "metadata": {},
     "outputs": [
      {
       "metadata": {},
       "output_type": "pyout",
       "prompt_number": 7,
       "text": [
        "OrderedDict([('id', 1), ('name', 'Ben'), ('data', [0, 1, 2])])"
       ]
      }
     ],
     "prompt_number": 7
    },
    {
     "cell_type": "code",
     "collapsed": false,
     "input": [
      "testo.to_list()"
     ],
     "language": "python",
     "metadata": {},
     "outputs": [
      {
       "metadata": {},
       "output_type": "pyout",
       "prompt_number": 8,
       "text": [
        "[1, 'Ben', [0, 1, 2]]"
       ]
      }
     ],
     "prompt_number": 8
    },
    {
     "cell_type": "code",
     "collapsed": false,
     "input": [
      "list(testo.items())"
     ],
     "language": "python",
     "metadata": {},
     "outputs": [
      {
       "metadata": {},
       "output_type": "pyout",
       "prompt_number": 9,
       "text": [
        "[('id', 1), ('name', 'Ben'), ('data', [0, 1, 2])]"
       ]
      }
     ],
     "prompt_number": 9
    },
    {
     "cell_type": "code",
     "collapsed": false,
     "input": [
      "Test('1')"
     ],
     "language": "python",
     "metadata": {},
     "outputs": [
      {
       "metadata": {},
       "output_type": "pyout",
       "prompt_number": 10,
       "text": [
        "Test(id=1, name=, data=None)"
       ]
      }
     ],
     "prompt_number": 10
    },
    {
     "cell_type": "code",
     "collapsed": false,
     "input": [
      "try:\n",
      "    testo.id = 2\n",
      "except AttributeError:\n",
      "    print \"read-only\""
     ],
     "language": "python",
     "metadata": {},
     "outputs": [
      {
       "output_type": "stream",
       "stream": "stdout",
       "text": [
        "read-only\n"
       ]
      }
     ],
     "prompt_number": 11
    },
    {
     "cell_type": "code",
     "collapsed": false,
     "input": [
      "testo.data"
     ],
     "language": "python",
     "metadata": {},
     "outputs": [
      {
       "metadata": {},
       "output_type": "pyout",
       "prompt_number": 12,
       "text": [
        "[0, 1, 2]"
       ]
      }
     ],
     "prompt_number": 12
    },
    {
     "cell_type": "code",
     "collapsed": false,
     "input": [
      "Test(id=2, name=\"Paul\").name"
     ],
     "language": "python",
     "metadata": {},
     "outputs": [
      {
       "metadata": {},
       "output_type": "pyout",
       "prompt_number": 13,
       "text": [
        "'Paul'"
       ]
      }
     ],
     "prompt_number": 13
    },
    {
     "cell_type": "code",
     "collapsed": false,
     "input": [
      "Test(name='Ben')"
     ],
     "language": "python",
     "metadata": {},
     "outputs": [
      {
       "ename": "TypeError",
       "evalue": "__init__() takes at least 2 arguments (2 given)",
       "output_type": "pyerr",
       "traceback": [
        "\u001b[1;31m---------------------------------------------------------------------------\u001b[0m\n\u001b[1;31mTypeError\u001b[0m                                 Traceback (most recent call last)",
        "\u001b[1;32m<ipython-input-14-c4d8736af088>\u001b[0m in \u001b[0;36m<module>\u001b[1;34m()\u001b[0m\n\u001b[1;32m----> 1\u001b[1;33m \u001b[0mTest\u001b[0m\u001b[1;33m(\u001b[0m\u001b[0mname\u001b[0m\u001b[1;33m=\u001b[0m\u001b[1;34m'Ben'\u001b[0m\u001b[1;33m)\u001b[0m\u001b[1;33m\u001b[0m\u001b[0m\n\u001b[0m",
        "\u001b[1;31mTypeError\u001b[0m: __init__() takes at least 2 arguments (2 given)"
       ]
      }
     ],
     "prompt_number": 14
    },
    {
     "cell_type": "code",
     "collapsed": false,
     "input": [],
     "language": "python",
     "metadata": {},
     "outputs": []
    }
   ],
   "metadata": {}
  }
 ]
}