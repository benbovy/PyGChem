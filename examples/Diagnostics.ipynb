{
 "metadata": {
  "name": "",
  "signature": "sha256:b71f473d1457bdf0933feff040a1cc2591cfb3786128785babeeea5e324bde41"
 },
 "nbformat": 3,
 "nbformat_minor": 0,
 "worksheets": [
  {
   "cells": [
    {
     "cell_type": "code",
     "collapsed": false,
     "input": [
      "from pygchem.datafield_backends import diagnostics"
     ],
     "language": "python",
     "metadata": {},
     "outputs": [],
     "prompt_number": 1
    },
    {
     "cell_type": "code",
     "collapsed": false,
     "input": [
      "dinfo = diagnostics.CTMDiagnosticInfo()"
     ],
     "language": "python",
     "metadata": {},
     "outputs": [],
     "prompt_number": 2
    },
    {
     "cell_type": "code",
     "collapsed": false,
     "input": [
      "try:\n",
      "    dinfo.categories.append('wrong_object')\n",
      "except ValueError:\n",
      "    print 'not added'"
     ],
     "language": "python",
     "metadata": {},
     "outputs": [
      {
       "output_type": "stream",
       "stream": "stdout",
       "text": [
        "not added\n"
       ]
      }
     ],
     "prompt_number": 3
    },
    {
     "cell_type": "code",
     "collapsed": false,
     "input": [
      "ncat = len(dinfo.categories)\n",
      "dinfo.load_diaginfo('../pygchem/data/diaginfo.dat')\n",
      "len(dinfo.categories) == ncat"
     ],
     "language": "python",
     "metadata": {},
     "outputs": [
      {
       "metadata": {},
       "output_type": "pyout",
       "prompt_number": 4,
       "text": [
        "True"
       ]
      }
     ],
     "prompt_number": 4
    },
    {
     "cell_type": "code",
     "collapsed": false,
     "input": [
      "print dinfo.categories.select(offset=0)"
     ],
     "language": "python",
     "metadata": {},
     "outputs": [
      {
       "output_type": "stream",
       "stream": "stdout",
       "text": [
        "List of 12 CTMCategory (selection):\n",
        "CTMCategory(offset=0, name=IJ-AVG-$, description=Tracer concentration)\n",
        "CTMCategory(offset=0, name=IJ-24H-$, description=24-hr avg tracer conc.)\n",
        "CTMCategory(offset=0, name=IJ-INS-$, description=Instantaneous tracer)\n",
        "CTMCategory(offset=0, name=INST-MAP, description=Instantaneous tracer)\n",
        "CTMCategory(offset=0, name=500-AVRG, description=500 hPa Tracer)\n",
        "CTMCategory(offset=0, name=SRF-AVRG, description=)\n",
        "CTMCategory(offset=0, name=HZ$-AVRG, description=)\n",
        "CTMCategory(offset=0, name=NRTH-SLP, description=)\n",
        "CTMCategory(offset=0, name=WET CONV, description=)\n",
        "CTMCategory(offset=0, name=DRY CONV, description=)\n",
        "CTMCategory(offset=0, name=PROD-AVG, description=)\n",
        "CTMCategory(offset=0, name=LOSS-AVG, description=)\n"
       ]
      }
     ],
     "prompt_number": 5
    },
    {
     "cell_type": "code",
     "collapsed": false,
     "input": [
      "dinfo.categories.select_item(name='IJ-AVG-$')"
     ],
     "language": "python",
     "metadata": {},
     "outputs": [
      {
       "metadata": {},
       "output_type": "pyout",
       "prompt_number": 6,
       "text": [
        "CTMCategory(offset=0, name=IJ-AVG-$, description=Tracer concentration)"
       ]
      }
     ],
     "prompt_number": 6
    },
    {
     "cell_type": "code",
     "collapsed": false,
     "input": [
      "print dinfo.diagnostics.select(hydrocarbon=True)"
     ],
     "language": "python",
     "metadata": {},
     "outputs": [
      {
       "output_type": "stream",
       "stream": "stdout",
       "text": [
        "List of 61 CTMDiagnostic (selection):\n",
        "CTMDiagnostic(number=5, name=ALK4, full_name=Alkanes(>C4), unit=ppbC, scale=1000000000.0, chemical=True, molecular_weight=0.012, hydrocarbon=True, carbon_weight=4)\n",
        "CTMDiagnostic(number=6, name=ISOP, full_name=Isoprene, unit=ppbC, scale=1000000000.0, chemical=True, molecular_weight=0.012, hydrocarbon=True, carbon_weight=5)\n",
        "CTMDiagnostic(number=9, name=ACET, full_name=Acetone, unit=ppbC, scale=1000000000.0, chemical=True, molecular_weight=0.012, hydrocarbon=True, carbon_weight=3)\n",
        "CTMDiagnostic(number=10, name=MEK, full_name=Ketones(>C3), unit=ppbC, scale=1000000000.0, chemical=True, molecular_weight=0.012, hydrocarbon=True, carbon_weight=4)\n",
        "CTMDiagnostic(number=11, name=ALD2, full_name=Acetaldehyde, unit=ppbC, scale=1000000000.0, chemical=True, molecular_weight=0.012, hydrocarbon=True, carbon_weight=2)\n",
        "CTMDiagnostic(number=18, name=PRPE, full_name=Propene, unit=ppbC, scale=1000000000.0, chemical=True, molecular_weight=0.012, hydrocarbon=True, carbon_weight=3)\n",
        "CTMDiagnostic(number=19, name=C3H8, full_name=Propane, unit=ppbC, scale=1000000000.0, chemical=True, molecular_weight=0.012, hydrocarbon=True, carbon_weight=3)\n",
        "CTMDiagnostic(number=21, name=C2H6, full_name=Ethane, unit=ppbC, scale=1000000000.0, chemical=True, molecular_weight=0.012, hydrocarbon=True, carbon_weight=2)\n",
        "CTMDiagnostic(number=105, name=ALK4, full_name=Alkanes(>C4), unit=atoms C/cm2/s, scale=1.0, chemical=True, molecular_weight=0.012, hydrocarbon=True, carbon_weight=4)\n",
        "CTMDiagnostic(number=106, name=ISOP, full_name=Isoprene, unit=atoms C/cm2/s, scale=1.0, chemical=True, molecular_weight=0.012, hydrocarbon=True, carbon_weight=5)\n",
        "CTMDiagnostic(number=109, name=ACET, full_name=Acetone, unit=atoms C/cm2/s, scale=1.0, chemical=True, molecular_weight=0.012, hydrocarbon=True, carbon_weight=3)\n",
        "CTMDiagnostic(number=110, name=MEK, full_name=Ketones(>C3), unit=atoms C/cm2/s, scale=1.0, chemical=True, molecular_weight=0.012, hydrocarbon=True, carbon_weight=4)\n",
        "CTMDiagnostic(number=111, name=ALD2, full_name=Acetaldehyde, unit=atoms C/cm2/s, scale=1.0, chemical=True, molecular_weight=0.012, hydrocarbon=True, carbon_weight=2)\n",
        "CTMDiagnostic(number=118, name=PRPE, full_name=Propene, unit=atoms C/cm2/s, scale=1.0, chemical=True, molecular_weight=0.012, hydrocarbon=True, carbon_weight=3)\n",
        "CTMDiagnostic(number=119, name=C3H8, full_name=Propane, unit=atoms C/cm2/s, scale=1.0, chemical=True, molecular_weight=0.012, hydrocarbon=True, carbon_weight=3)\n",
        "CTMDiagnostic(number=121, name=C2H6, full_name=Ethane, unit=atoms C/cm2/s, scale=1.0, chemical=True, molecular_weight=0.012, hydrocarbon=True, carbon_weight=2)\n",
        "CTMDiagnostic(number=205, name=ALK4, full_name=Alkanes(>C4), unit=kgC/s, scale=1.0, chemical=True, molecular_weight=0.012, hydrocarbon=True, carbon_weight=4)\n",
        "CTMDiagnostic(number=206, name=ISOP, full_name=Isoprene, unit=kgC/s, scale=1.0, chemical=True, molecular_weight=0.012, hydrocarbon=True, carbon_weight=5)\n",
        "CTMDiagnostic(number=209, name=ACET, full_name=Acetone, unit=kgC/s, scale=1.0, chemical=True, molecular_weight=0.012, hydrocarbon=True, carbon_weight=3)\n",
        "CTMDiagnostic(number=210, name=MEK, full_name=Ketones(>C3), unit=kgC/s, scale=1.0, chemical=True, molecular_weight=0.012, hydrocarbon=True, carbon_weight=4)\n",
        "CTMDiagnostic(number=211, name=ALD2, full_name=Acetaldehyde, unit=kgC/s, scale=1.0, chemical=True, molecular_weight=0.012, hydrocarbon=True, carbon_weight=2)\n",
        "CTMDiagnostic(number=218, name=PRPE, full_name=Propene, unit=kgC/s, scale=1.0, chemical=True, molecular_weight=0.012, hydrocarbon=True, carbon_weight=3)\n",
        "CTMDiagnostic(number=219, name=C3H8, full_name=Propane, unit=kgC/s, scale=1.0, chemical=True, molecular_weight=0.012, hydrocarbon=True, carbon_weight=3)\n",
        "CTMDiagnostic(number=221, name=C2H6, full_name=Ethane, unit=kgC/s, scale=1.0, chemical=True, molecular_weight=0.012, hydrocarbon=True, carbon_weight=2)\n",
        "CTMDiagnostic(number=305, name=ALK4, full_name=Alkanes(>C4), unit=atoms C/cm2, scale=1.0, chemical=True, molecular_weight=0.012, hydrocarbon=True, carbon_weight=4)\n",
        "CTMDiagnostic(number=306, name=ISOP, full_name=Isoprene, unit=atoms C/cm2, scale=1.0, chemical=True, molecular_weight=0.012, hydrocarbon=True, carbon_weight=5)\n",
        "CTMDiagnostic(number=309, name=ACET, full_name=Acetone, unit=atoms C/cm2, scale=1.0, chemical=True, molecular_weight=0.012, hydrocarbon=True, carbon_weight=3)\n",
        "CTMDiagnostic(number=310, name=MEK, full_name=Ketones(>C3), unit=atoms C/cm2, scale=1.0, chemical=True, molecular_weight=0.012, hydrocarbon=True, carbon_weight=4)\n",
        "CTMDiagnostic(number=311, name=ALD2, full_name=Acetaldehyde, unit=atoms C/cm2, scale=1.0, chemical=True, molecular_weight=0.012, hydrocarbon=True, carbon_weight=2)\n",
        "CTMDiagnostic(number=318, name=PRPE, full_name=Propene, unit=atoms C/cm2, scale=1.0, chemical=True, molecular_weight=0.012, hydrocarbon=True, carbon_weight=3)\n",
        "CTMDiagnostic(number=319, name=C3H8, full_name=Propane, unit=atoms C/cm2, scale=1.0, chemical=True, molecular_weight=0.012, hydrocarbon=True, carbon_weight=3)\n",
        "CTMDiagnostic(number=321, name=C2H6, full_name=Ethane, unit=atoms C/cm2, scale=1.0, chemical=True, molecular_weight=0.012, hydrocarbon=True, carbon_weight=2)\n",
        "CTMDiagnostic(number=405, name=ALK4, full_name=Alkanes(>C4), unit=kgC, scale=1.0, chemical=True, molecular_weight=0.012, hydrocarbon=True, carbon_weight=4)\n",
        "CTMDiagnostic(number=406, name=ISOP, full_name=Isoprene, unit=kgC, scale=1.0, chemical=True, molecular_weight=0.012, hydrocarbon=True, carbon_weight=5)\n",
        "CTMDiagnostic(number=409, name=ACET, full_name=Acetone, unit=kgC, scale=1.0, chemical=True, molecular_weight=0.012, hydrocarbon=True, carbon_weight=3)\n",
        "CTMDiagnostic(number=410, name=MEK, full_name=Ketones(>C3), unit=kgC, scale=1.0, chemical=True, molecular_weight=0.012, hydrocarbon=True, carbon_weight=4)\n",
        "CTMDiagnostic(number=411, name=ALD2, full_name=Acetaldehyde, unit=kgC, scale=1.0, chemical=True, molecular_weight=0.012, hydrocarbon=True, carbon_weight=2)\n",
        "CTMDiagnostic(number=418, name=PRPE, full_name=Propene, unit=kgC, scale=1.0, chemical=True, molecular_weight=0.012, hydrocarbon=True, carbon_weight=3)\n",
        "CTMDiagnostic(number=419, name=C3H8, full_name=Propane, unit=kgC, scale=1.0, chemical=True, molecular_weight=0.012, hydrocarbon=True, carbon_weight=3)\n",
        "CTMDiagnostic(number=421, name=C2H6, full_name=Ethane, unit=kgC, scale=1.0, chemical=True, molecular_weight=0.012, hydrocarbon=True, carbon_weight=2)\n",
        "CTMDiagnostic(number=4701, name=ISOP, full_name=Isoprene, unit=molC/cm2/s, scale=1.0, chemical=True, molecular_weight=0.012, hydrocarbon=True, carbon_weight=5)\n",
        "CTMDiagnostic(number=4702, name=ACET, full_name=Acetone, unit=molC/cm2/s, scale=1.0, chemical=True, molecular_weight=0.012, hydrocarbon=True, carbon_weight=3)\n",
        "CTMDiagnostic(number=4703, name=PRPE, full_name=Propene, unit=molC/cm2/s, scale=1.0, chemical=True, molecular_weight=0.012, hydrocarbon=True, carbon_weight=3)\n",
        "CTMDiagnostic(number=4704, name=MONOT, full_name=Monoterpenes, unit=molC/cm2/s, scale=1.0, chemical=True, molecular_weight=0.012, hydrocarbon=True, carbon_weight=3)\n",
        "CTMDiagnostic(number=4801, name=ACETmo, full_name=Acetone from MONOTERPENES, unit=molC/cm2/s, scale=1.0, chemical=True, molecular_weight=0.012, hydrocarbon=True, carbon_weight=3)\n",
        "CTMDiagnostic(number=4802, name=ACETmb, full_name=Acetone from METHYL BUTENOL, unit=molC/cm2/s, scale=1.0, chemical=True, molecular_weight=0.012, hydrocarbon=True, carbon_weight=3)\n",
        "CTMDiagnostic(number=4803, name=ACETbg, full_name=Acetone from DIRECT EMISSION, unit=molC/cm2/s, scale=1.0, chemical=True, molecular_weight=0.012, hydrocarbon=True, carbon_weight=3)\n",
        "CTMDiagnostic(number=4804, name=ACETdl, full_name=Acetone from DRY LEAF MATTER, unit=molC/cm2/s, scale=1.0, chemical=True, molecular_weight=0.012, hydrocarbon=True, carbon_weight=3)\n",
        "CTMDiagnostic(number=4805, name=ACETgr, full_name=Acetone from GRASSLANDS, unit=molC/cm2/s, scale=1.0, chemical=True, molecular_weight=0.012, hydrocarbon=True, carbon_weight=3)\n",
        "CTMDiagnostic(number=4806, name=ACETop, full_name=Acetone source from OCEANS, unit=molC/cm2/s, scale=1.0, chemical=True, molecular_weight=0.012, hydrocarbon=True, carbon_weight=3)\n",
        "CTMDiagnostic(number=4807, name=ACETol, full_name=Acetone sink from OCEANS, unit=molC/cm2/s, scale=1.0, chemical=True, molecular_weight=0.012, hydrocarbon=True, carbon_weight=3)\n",
        "CTMDiagnostic(number=5809, name=ALK4, full_name=Alkanes(>C4), unit=ppbC, scale=1000000000.0, chemical=True, molecular_weight=0.012, hydrocarbon=True, carbon_weight=4)\n",
        "CTMDiagnostic(number=5810, name=C2H6, full_name=Ethane, unit=ppbC, scale=1000000000.0, chemical=True, molecular_weight=0.012, hydrocarbon=True, carbon_weight=2)\n",
        "CTMDiagnostic(number=5811, name=C3H8, full_name=Propane, unit=ppbC, scale=1000000000.0, chemical=True, molecular_weight=0.012, hydrocarbon=True, carbon_weight=3)\n",
        "CTMDiagnostic(number=5815, name=ISOP, full_name=Isoprene, unit=ppbC, scale=1000000000.0, chemical=True, molecular_weight=0.012, hydrocarbon=True, carbon_weight=5)\n",
        "CTMDiagnostic(number=5819, name=PRPE, full_name=Propene, unit=ppbC, scale=1000000000.0, chemical=True, molecular_weight=0.012, hydrocarbon=True, carbon_weight=3)\n",
        "CTMDiagnostic(number=7305, name=ALK4, full_name=Alkanes(>C4), unit=unitless, scale=1.0, chemical=True, molecular_weight=0.012, hydrocarbon=True, carbon_weight=4)\n",
        "CTMDiagnostic(number=7309, name=ACET, full_name=Acetone, unit=unitless, scale=1.0, chemical=True, molecular_weight=0.012, hydrocarbon=True, carbon_weight=3)\n",
        "CTMDiagnostic(number=7318, name=PRPE, full_name=Propene (>C3 alkenes), unit=unitless, scale=1.0, chemical=True, molecular_weight=0.012, hydrocarbon=True, carbon_weight=3)\n",
        "CTMDiagnostic(number=7319, name=C3H8, full_name=Propane, unit=unitless, scale=1.0, chemical=True, molecular_weight=0.012, hydrocarbon=True, carbon_weight=3)\n",
        "CTMDiagnostic(number=7321, name=C2H6, full_name=Ethane, unit=unitless, scale=1.0, chemical=True, molecular_weight=0.012, hydrocarbon=True, carbon_weight=2)\n"
       ]
      }
     ],
     "prompt_number": 7
    },
    {
     "cell_type": "code",
     "collapsed": false,
     "input": [
      "print dinfo.categories.select(offset=0)"
     ],
     "language": "python",
     "metadata": {},
     "outputs": [
      {
       "output_type": "stream",
       "stream": "stdout",
       "text": [
        "List of 12 CTMCategory (selection):\n",
        "CTMCategory(offset=0, name=IJ-AVG-$, description=Tracer concentration)\n",
        "CTMCategory(offset=0, name=IJ-24H-$, description=24-hr avg tracer conc.)\n",
        "CTMCategory(offset=0, name=IJ-INS-$, description=Instantaneous tracer)\n",
        "CTMCategory(offset=0, name=INST-MAP, description=Instantaneous tracer)\n",
        "CTMCategory(offset=0, name=500-AVRG, description=500 hPa Tracer)\n",
        "CTMCategory(offset=0, name=SRF-AVRG, description=)\n",
        "CTMCategory(offset=0, name=HZ$-AVRG, description=)\n",
        "CTMCategory(offset=0, name=NRTH-SLP, description=)\n",
        "CTMCategory(offset=0, name=WET CONV, description=)\n",
        "CTMCategory(offset=0, name=DRY CONV, description=)\n",
        "CTMCategory(offset=0, name=PROD-AVG, description=)\n",
        "CTMCategory(offset=0, name=LOSS-AVG, description=)\n"
       ]
      }
     ],
     "prompt_number": 8
    },
    {
     "cell_type": "code",
     "collapsed": false,
     "input": [
      "lastcat = dinfo.categories.pop()\n",
      "print lastcat\n",
      "len(dinfo.categories) == ncat - 1"
     ],
     "language": "python",
     "metadata": {},
     "outputs": [
      {
       "output_type": "stream",
       "stream": "stdout",
       "text": [
        "CTMCategory(offset=9900, name=IJ-EMS-$, description=Emissions and scaliings)\n"
       ]
      },
      {
       "metadata": {},
       "output_type": "pyout",
       "prompt_number": 9,
       "text": [
        "True"
       ]
      }
     ],
     "prompt_number": 9
    },
    {
     "cell_type": "code",
     "collapsed": false,
     "input": [
      "dinfo.categories * 2"
     ],
     "language": "python",
     "metadata": {},
     "outputs": [
      {
       "ename": "NotPermittedError",
       "evalue": "duplicating items is not allowed",
       "output_type": "pyerr",
       "traceback": [
        "\u001b[1;31m---------------------------------------------------------------------------\u001b[0m\n\u001b[1;31mNotPermittedError\u001b[0m                         Traceback (most recent call last)",
        "\u001b[1;32m<ipython-input-10-a58588b8bc5d>\u001b[0m in \u001b[0;36m<module>\u001b[1;34m()\u001b[0m\n\u001b[1;32m----> 1\u001b[1;33m \u001b[0mdinfo\u001b[0m\u001b[1;33m.\u001b[0m\u001b[0mcategories\u001b[0m \u001b[1;33m*\u001b[0m \u001b[1;36m2\u001b[0m\u001b[1;33m\u001b[0m\u001b[0m\n\u001b[0m",
        "\u001b[1;32m/mnt/hgfs/Altair/GitRepos/PyGChem/pygchem/utils/data_structures.py\u001b[0m in \u001b[0;36m__mul__\u001b[1;34m(self, other)\u001b[0m\n\u001b[0;32m    371\u001b[0m \u001b[1;33m\u001b[0m\u001b[0m\n\u001b[0;32m    372\u001b[0m     \u001b[1;32mdef\u001b[0m \u001b[0m__mul__\u001b[0m\u001b[1;33m(\u001b[0m\u001b[0mself\u001b[0m\u001b[1;33m,\u001b[0m \u001b[0mother\u001b[0m\u001b[1;33m)\u001b[0m\u001b[1;33m:\u001b[0m\u001b[1;33m\u001b[0m\u001b[0m\n\u001b[1;32m--> 373\u001b[1;33m         \u001b[1;32mraise\u001b[0m \u001b[0mexceptions\u001b[0m\u001b[1;33m.\u001b[0m\u001b[0mNotPermittedError\u001b[0m\u001b[1;33m(\u001b[0m\u001b[1;34m'duplicating items is not allowed'\u001b[0m\u001b[1;33m)\u001b[0m\u001b[1;33m\u001b[0m\u001b[0m\n\u001b[0m\u001b[0;32m    374\u001b[0m \u001b[1;33m\u001b[0m\u001b[0m\n\u001b[0;32m    375\u001b[0m     \u001b[1;32mdef\u001b[0m \u001b[0m__imul__\u001b[0m\u001b[1;33m(\u001b[0m\u001b[0mself\u001b[0m\u001b[1;33m,\u001b[0m \u001b[0mother\u001b[0m\u001b[1;33m)\u001b[0m\u001b[1;33m:\u001b[0m\u001b[1;33m\u001b[0m\u001b[0m\n",
        "\u001b[1;31mNotPermittedError\u001b[0m: duplicating items is not allowed"
       ]
      }
     ],
     "prompt_number": 10
    },
    {
     "cell_type": "code",
     "collapsed": false,
     "input": [
      "[cat.name for cat in dinfo.categories.select(offset=0, description='')]"
     ],
     "language": "python",
     "metadata": {},
     "outputs": []
    },
    {
     "cell_type": "code",
     "collapsed": false,
     "input": [
      "c0 = dinfo.categories[0]"
     ],
     "language": "python",
     "metadata": {},
     "outputs": [],
     "prompt_number": 16
    },
    {
     "cell_type": "code",
     "collapsed": false,
     "input": [],
     "language": "python",
     "metadata": {},
     "outputs": []
    }
   ],
   "metadata": {}
  }
 ]
}