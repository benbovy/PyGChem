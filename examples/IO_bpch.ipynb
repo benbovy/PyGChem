{
 "metadata": {
  "name": "",
  "signature": "sha256:68b285beefcf59a25472fec787c6d3ce8a3f5af0c93641806dee03844bab6500"
 },
 "nbformat": 3,
 "nbformat_minor": 0,
 "worksheets": [
  {
   "cells": [
    {
     "cell_type": "code",
     "collapsed": false,
     "input": [
      "from pygchem.io import bpch\n",
      "import numpy as np"
     ],
     "language": "python",
     "metadata": {},
     "outputs": [],
     "prompt_number": 1
    },
    {
     "cell_type": "code",
     "collapsed": false,
     "input": [
      "%cd /home/data/GEOS-Chem/GEOS-Chem-rundirs/4x5/geos5/standard/\n",
      "ctm_filename = 'ctm.bpch'"
     ],
     "language": "python",
     "metadata": {},
     "outputs": [
      {
       "output_type": "stream",
       "stream": "stdout",
       "text": [
        "/home/data/GEOS-Chem/GEOS-Chem-rundirs/4x5/geos5/standard\n"
       ]
      }
     ],
     "prompt_number": 2
    },
    {
     "cell_type": "code",
     "collapsed": false,
     "input": [
      "%timeit bpch.read_bpch(ctm_filename)"
     ],
     "language": "python",
     "metadata": {},
     "outputs": [
      {
       "output_type": "stream",
       "stream": "stdout",
       "text": [
        "100 loops, best of 3: 17.7 ms per loop\n"
       ]
      }
     ],
     "prompt_number": 3
    },
    {
     "cell_type": "code",
     "collapsed": false,
     "input": [
      "%timeit bpch.read_bpch(ctm_filename, skip_data=False)"
     ],
     "language": "python",
     "metadata": {},
     "outputs": [
      {
       "output_type": "stream",
       "stream": "stdout",
       "text": [
        "1 loops, best of 3: 3.39 s per loop\n"
       ]
      }
     ],
     "prompt_number": 4
    },
    {
     "cell_type": "code",
     "collapsed": false,
     "input": [
      "ctm_file, filetype, title, datablocks = bpch.read_bpch(ctm_filename, skip_data=False)"
     ],
     "language": "python",
     "metadata": {},
     "outputs": [],
     "prompt_number": 5
    },
    {
     "cell_type": "code",
     "collapsed": false,
     "input": [
      "filetype"
     ],
     "language": "python",
     "metadata": {},
     "outputs": [
      {
       "metadata": {},
       "output_type": "pyout",
       "prompt_number": 6,
       "text": [
        "'CTM bin 02'"
       ]
      }
     ],
     "prompt_number": 6
    },
    {
     "cell_type": "code",
     "collapsed": false,
     "input": [
      "title"
     ],
     "language": "python",
     "metadata": {},
     "outputs": [
      {
       "metadata": {},
       "output_type": "pyout",
       "prompt_number": 7,
       "text": [
        "'GEOS-CHEM binary punch file v. 2.0'"
       ]
      }
     ],
     "prompt_number": 7
    },
    {
     "cell_type": "code",
     "collapsed": false,
     "input": [
      "print len(datablocks)\n",
      "datablocks[0]"
     ],
     "language": "python",
     "metadata": {},
     "outputs": [
      {
       "output_type": "stream",
       "stream": "stdout",
       "text": [
        "285\n"
       ]
      },
      {
       "metadata": {},
       "output_type": "pyout",
       "prompt_number": 8,
       "text": [
        "{'category': 'DUSTSRCE', 'center180': True, 'data': array([[[ 0.],\n",
        "         [ 0.],\n",
        "         [ 0.],\n",
        "         ..., \n",
        "         [ 0.],\n",
        "         [ 0.],\n",
        "         [ 0.]],\n",
        " \n",
        "        [[ 0.],\n",
        "         [ 0.],\n",
        "         [ 0.],\n",
        "         ..., \n",
        "         [ 0.],\n",
        "         [ 0.],\n",
        "         [ 0.]],\n",
        " \n",
        "        [[ 0.],\n",
        "         [ 0.],\n",
        "         [ 0.],\n",
        "         ..., \n",
        "         [ 0.],\n",
        "         [ 0.],\n",
        "         [ 0.]],\n",
        " \n",
        "        ..., \n",
        "        [[ 0.],\n",
        "         [ 0.],\n",
        "         [ 0.],\n",
        "         ..., \n",
        "         [ 0.],\n",
        "         [ 0.],\n",
        "         [ 0.]],\n",
        " \n",
        "        [[ 0.],\n",
        "         [ 0.],\n",
        "         [ 0.],\n",
        "         ..., \n",
        "         [ 0.],\n",
        "         [ 0.],\n",
        "         [ 0.]],\n",
        " \n",
        "        [[ 0.],\n",
        "         [ 0.],\n",
        "         [ 0.],\n",
        "         ..., \n",
        "         [ 0.],\n",
        "         [ 0.],\n",
        "         [ 0.]]]), 'file_position': 356, 'from_file': '/home/data/GEOS-Chem/GEOS-Chem-rundirs/4x5/geos5/standard/ctm.bpch', 'halfpolar': True, 'modelname': 'GEOS5_47L', 'number': 38, 'origin': (1,\n",
        "  1,\n",
        "  1), 'resolution': (5.0, 4.0), 'shape': (72,\n",
        "  46,\n",
        "  1), 'times': (datetime.datetime(2005, 7, 1, 0, 0),\n",
        "  datetime.datetime(2005, 8, 1, 0, 0)), 'unit': 'kg'}"
       ]
      }
     ],
     "prompt_number": 8
    },
    {
     "cell_type": "code",
     "collapsed": false,
     "input": [
      "%timeit bpch.write_bpch('ctm_test.bpch', datablocks, title, filetype)"
     ],
     "language": "python",
     "metadata": {},
     "outputs": [
      {
       "output_type": "stream",
       "stream": "stdout",
       "text": [
        "1 loops, best of 3: 7.9 s per loop\n"
       ]
      }
     ],
     "prompt_number": 9
    },
    {
     "cell_type": "code",
     "collapsed": false,
     "input": [
      "import hashlib\n",
      "\n",
      "def hashfile(afile, hasher, blocksize=65536):\n",
      "    buf = afile.read(blocksize)\n",
      "    while len(buf) > 0:\n",
      "        hasher.update(buf)\n",
      "        buf = afile.read(blocksize)\n",
      "    return hasher.hexdigest()\n",
      "\n",
      "h1 = hashfile(open('ctm.bpch', 'rb'), hashlib.sha256())\n",
      "h2 = hashfile(open('ctm_test.bpch', 'rb'), hashlib.sha256())\n",
      "print h1\n",
      "print h2"
     ],
     "language": "python",
     "metadata": {},
     "outputs": [
      {
       "output_type": "stream",
       "stream": "stdout",
       "text": [
        "6b333cc9fa074280962c4c52cc33d015fd125ca72c1e9082188011f9fdbd4a9f\n",
        "6b39241c8f16fb0a78163f01b75cc7b5e0d69ef37e2fbc498cb735f5774fc1fe\n"
       ]
      }
     ],
     "prompt_number": 10
    },
    {
     "cell_type": "code",
     "collapsed": false,
     "input": [
      "!ls -all"
     ],
     "language": "python",
     "metadata": {},
     "outputs": [
      {
       "output_type": "stream",
       "stream": "stdout",
       "text": [
        "total 310592\r\n",
        "drwxrwxr-x 4 root users    16384 31 juil. 14:30 .\r\n",
        "drwxrwxr-x 5 root users    16384 21 mai    2013 ..\r\n",
        "-rwxrwxr-x 1 root users      610 30 mars   2012 chemga.dat\r\n",
        "-rwxrwxr-x 1 root users 87475420 30 mars   2012 ctm.bpch\r\n",
        "-rwxrwxr-x 1 root users 87475420 31 juil. 17:22 ctm_test.bpch\r\n",
        "-rwxrwxr-x 1 root users    11110 30 mars   2012 diaginfo.dat\r\n",
        "drwxrwxr-x 8 root users    16384 30 mars   2012 .git\r\n",
        "-rwxrwxr-x 1 root users   154237 30 mars   2012 globchem.dat\r\n",
        "-rwxrwxr-x 1 root users    88064  8 mars   2013 globchem.db\r\n",
        "-rwxrwxr-x 1 root users    14197 30 mars   2012 input.geos\r\n",
        "-rwxrwxr-x 1 root users   117454 30 mars   2012 jv_atms.dat\r\n",
        "-rwxrwxr-x 1 root users     6600 30 mars   2012 jv_spec_aod.dat\r\n",
        "-rwxrwxr-x 1 root users    33257 30 mars   2012 jv_spec.dat\r\n",
        "-rwxrwxr-x 1 root users      905 30 mars   2012 mglob.dat\r\n",
        "-rwxrwxr-x 1 root users   623020 30 mars   2012 Ox.mass.final\r\n",
        "-rwxrwxr-x 1 root users   623020 30 mars   2012 Ox.mass.initial\r\n",
        "-rwxrwxr-x 1 root users     7522 30 mars   2012 ratj.d\r\n",
        "-rwxrwxr-x 1 root users      351 30 mars   2012 README\r\n",
        "-rwxrwxr-x 1 root users 26784148 30 mars   2012 restart.4x5.geos5.2005070100\r\n",
        "-rwxrwxr-x 1 root users 26784148 30 mars   2012 restart.4x5.geos5.2005080100\r\n",
        "-rwxrwxr-x 1 root users    44607 30 mars   2012 smv2.log\r\n",
        "-rwxrwxr-x 1 root users 87475420 15 avril  2013 test.bpch\r\n",
        "-rwxrwxr-x 1 root users    36716 30 mars   2012 tracerinfo.dat\r\n",
        "drwxrwxr-x 2 root users    16384  2 mai    2013 vtk\r\n"
       ]
      }
     ],
     "prompt_number": 11
    },
    {
     "cell_type": "code",
     "collapsed": false,
     "input": [
      "ctm_file2, filetype2, title2, datablocks2 = bpch.read_bpch('ctm_test.bpch', skip_data=False)"
     ],
     "language": "python",
     "metadata": {},
     "outputs": [],
     "prompt_number": 12
    },
    {
     "cell_type": "code",
     "collapsed": false,
     "input": [
      "all([np.all(d1['data'] == d2['data']) for d1, d2 in zip(datablocks, datablocks2)])"
     ],
     "language": "python",
     "metadata": {},
     "outputs": [
      {
       "metadata": {},
       "output_type": "pyout",
       "prompt_number": 13,
       "text": [
        "True"
       ]
      }
     ],
     "prompt_number": 13
    },
    {
     "cell_type": "code",
     "collapsed": false,
     "input": [
      "all([d1['times'] == d2['times']for d1, d2 in zip(datablocks, datablocks2)])"
     ],
     "language": "python",
     "metadata": {},
     "outputs": [
      {
       "metadata": {},
       "output_type": "pyout",
       "prompt_number": 14,
       "text": [
        "True"
       ]
      }
     ],
     "prompt_number": 14
    }
   ],
   "metadata": {}
  }
 ]
}