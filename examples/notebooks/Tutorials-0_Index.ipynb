{
 "metadata": {
  "name": "",
  "signature": "sha256:41b64c12ec4320608764ff39d4cc1daeb97b4dd695d7bbaf46f13dedcedc7c3d"
 },
 "nbformat": 3,
 "nbformat_minor": 0,
 "worksheets": [
  {
   "cells": [
    {
     "cell_type": "markdown",
     "metadata": {},
     "source": [
      "Top: [Index](Index.ipynb) | Prev: [Installation](Installation.ipynb) | Next: [Examples](Examples_Index.ipynb)"
     ]
    },
    {
     "cell_type": "heading",
     "level": 1,
     "metadata": {},
     "source": [
      "PyGChem Tutorials"
     ]
    },
    {
     "cell_type": "markdown",
     "metadata": {},
     "source": [
      "This section introduces the PyGChem\u2019s most noteworthy features and helps to familiarize yourself with the PyGChem's main object types and functions. For more specific use cases, check the [examples section](Examples_Index.ipynb)."
     ]
    },
    {
     "cell_type": "heading",
     "level": 2,
     "metadata": {},
     "source": [
      "Topics"
     ]
    },
    {
     "cell_type": "markdown",
     "metadata": {},
     "source": [
      "- [Datasets](Tutorials-1_Datasets.ipynb)"
     ]
    }
   ],
   "metadata": {}
  }
 ]
}