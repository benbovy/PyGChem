{
 "metadata": {
  "name": "",
  "signature": "sha256:110eebe6bf64da1a580bbfc83f75c2743a37a15c1377a8ce709e054c8ce5f3ac"
 },
 "nbformat": 3,
 "nbformat_minor": 0,
 "worksheets": [
  {
   "cells": [
    {
     "cell_type": "markdown",
     "metadata": {},
     "source": [
      "![pygchem_logo](images/pygchem_logo.svg)"
     ]
    },
    {
     "cell_type": "heading",
     "level": 1,
     "metadata": {},
     "source": [
      "PyGChem Documentation"
     ]
    },
    {
     "cell_type": "markdown",
     "metadata": {},
     "source": [
      "This directory contains PyGChem's notebook-based documentation, with interactive tutorials and examples.\n",
      "\n",
      "The complete reference documentation will be available soon."
     ]
    },
    {
     "cell_type": "heading",
     "level": 2,
     "metadata": {},
     "source": [
      "Topics"
     ]
    },
    {
     "cell_type": "markdown",
     "metadata": {},
     "source": [
      "- [Installing PyGChem](Installation.ipynb)\n",
      "- [Tutorials](Tutorials-0_Index.ipynb)"
     ]
    }
   ],
   "metadata": {}
  }
 ]
}