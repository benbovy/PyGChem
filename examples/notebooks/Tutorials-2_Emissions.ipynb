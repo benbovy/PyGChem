{
 "metadata": {
  "name": "",
  "signature": "sha256:ffe3724eb41a79998117b5e243ce19ae04d1622140cd625ece207b8f36856a03"
 },
 "nbformat": 3,
 "nbformat_minor": 0,
 "worksheets": [
  {
   "cells": [
    {
     "cell_type": "markdown",
     "metadata": {},
     "source": [
      "Top: [Tutorials](Tutorials-0_Index.ipynb) | Previous: [Datasets](Tutorials-1_Datasets.ipynb)"
     ]
    },
    {
     "cell_type": "heading",
     "level": 1,
     "metadata": {},
     "source": [
      "Emissions: HEMCO Python API"
     ]
    },
    {
     "cell_type": "markdown",
     "metadata": {},
     "source": [
      "The module `pygchem.emissions` provides an API for Harvard-NASA Emissions Component (HEMCO). Currently, it allows to read / write HEMCO configuration files and to browse or edit an existing configuration (or create a new configuration from scratch). "
     ]
    },
    {
     "cell_type": "code",
     "collapsed": false,
     "input": [
      "from pygchem import emissions"
     ],
     "language": "python",
     "metadata": {},
     "outputs": [],
     "prompt_number": 1
    },
    {
     "cell_type": "heading",
     "level": 2,
     "metadata": {},
     "source": [
      "Loading a configuration from file"
     ]
    },
    {
     "cell_type": "markdown",
     "metadata": {},
     "source": [
      "We will use the following file as an example:"
     ]
    },
    {
     "cell_type": "code",
     "collapsed": false,
     "input": [
      "hemco_example_file = '../data/HEMCO_test'"
     ],
     "language": "python",
     "metadata": {},
     "outputs": [],
     "prompt_number": 2
    },
    {
     "cell_type": "markdown",
     "metadata": {},
     "source": [
      "The following line load the setup detailled in the file:"
     ]
    },
    {
     "cell_type": "code",
     "collapsed": false,
     "input": [
      "hemco_setup = emissions.load_setup(hemco_example_file)"
     ],
     "language": "python",
     "metadata": {},
     "outputs": [],
     "prompt_number": 5
    },
    {
     "cell_type": "heading",
     "level": 2,
     "metadata": {},
     "source": [
      "Browsing the configuration setup"
     ]
    },
    {
     "cell_type": "markdown",
     "metadata": {},
     "source": [
      "The variable `hemco_setup` is an `EmissionSetup` which contains all the imported HEMCO settings. Here below are a few example on how configuration entries can be retreived:"
     ]
    },
    {
     "cell_type": "markdown",
     "metadata": {},
     "source": [
      "Get the names of all extensions used in the configuration:"
     ]
    },
    {
     "cell_type": "code",
     "collapsed": false,
     "input": [
      "hemco_setup.extensions.keys"
     ],
     "language": "python",
     "metadata": {},
     "outputs": [
      {
       "metadata": {},
       "output_type": "pyout",
       "prompt_number": 11,
       "text": [
        "['Custom',\n",
        " 'SeaFlux',\n",
        " 'ParaNOx',\n",
        " 'LightNOx',\n",
        " 'SoilNOx',\n",
        " 'DustDead',\n",
        " 'DustGinoux',\n",
        " 'SeaSalt',\n",
        " 'MEGAN',\n",
        " 'MEGAN_Mono',\n",
        " 'MEGAN_SOA',\n",
        " 'Core']"
       ]
      }
     ],
     "prompt_number": 11
    },
    {
     "cell_type": "markdown",
     "metadata": {},
     "source": [
      "Select one extension based on its name:"
     ]
    },
    {
     "cell_type": "code",
     "collapsed": false,
     "input": [
      "megan_ext = hemco_setup.extensions.select_item(\"MEGAN\")"
     ],
     "language": "python",
     "metadata": {},
     "outputs": [],
     "prompt_number": 24
    },
    {
     "cell_type": "markdown",
     "metadata": {},
     "source": [
      "Select one or several extensions based on other attributes:"
     ]
    },
    {
     "cell_type": "code",
     "collapsed": false,
     "input": [
      "selection = hemco_setup.extensions.select(enabled=False)\n",
      "\n",
      "# get the names of the selected extensions\n",
      "selection.keys"
     ],
     "language": "python",
     "metadata": {},
     "outputs": [
      {
       "metadata": {},
       "output_type": "pyout",
       "prompt_number": 22,
       "text": [
        "['Custom', 'DustGinoux', 'MEGAN_SOA']"
       ]
      }
     ],
     "prompt_number": 22
    },
    {
     "cell_type": "markdown",
     "metadata": {},
     "source": [
      "Some parameters related to the previously selected extension:"
     ]
    },
    {
     "cell_type": "code",
     "collapsed": false,
     "input": [
      "megan_ext.name"
     ],
     "language": "python",
     "metadata": {},
     "outputs": [
      {
       "metadata": {},
       "output_type": "pyout",
       "prompt_number": 25,
       "text": [
        "'MEGAN'"
       ]
      }
     ],
     "prompt_number": 25
    },
    {
     "cell_type": "code",
     "collapsed": false,
     "input": [
      "megan_ext.enabled"
     ],
     "language": "python",
     "metadata": {},
     "outputs": [
      {
       "metadata": {},
       "output_type": "pyout",
       "prompt_number": 26,
       "text": [
        "True"
       ]
      }
     ],
     "prompt_number": 26
    },
    {
     "cell_type": "code",
     "collapsed": false,
     "input": [
      "megan_ext.eid   # extension ID"
     ],
     "language": "python",
     "metadata": {},
     "outputs": [
      {
       "metadata": {},
       "output_type": "pyout",
       "prompt_number": 29,
       "text": [
        "108"
       ]
      }
     ],
     "prompt_number": 29
    },
    {
     "cell_type": "code",
     "collapsed": false,
     "input": [
      "megan_ext.settings"
     ],
     "language": "python",
     "metadata": {},
     "outputs": [
      {
       "metadata": {},
       "output_type": "pyout",
       "prompt_number": 31,
       "text": [
        "{'Isoprene scaling': 1.0, 'PECCA model': True}"
       ]
      }
     ],
     "prompt_number": 31
    },
    {
     "cell_type": "markdown",
     "metadata": {},
     "source": [
      "Get all base emission fields assigned to the extension:"
     ]
    },
    {
     "cell_type": "code",
     "collapsed": false,
     "input": [
      "megan_bef = megan_ext.base_emission_fields\n",
      "print megan_bef"
     ],
     "language": "python",
     "metadata": {},
     "outputs": [
      {
       "output_type": "stream",
       "stream": "stdout",
       "text": [
        "List of 0 EmissionBase:\n",
        "\n"
       ]
      }
     ],
     "prompt_number": 38
    },
    {
     "cell_type": "markdown",
     "metadata": {},
     "source": [
      "Get all extension data fields for this extension:"
     ]
    },
    {
     "cell_type": "code",
     "collapsed": false,
     "input": [
      "megan_df = megan_ext.extension_data\n",
      "print megan_df"
     ],
     "language": "python",
     "metadata": {},
     "outputs": [
      {
       "output_type": "stream",
       "stream": "stdout",
       "text": [
        "List of 2 EmissionBase:\n",
        "EmissionBase(name=MEGAN_AEF_ISOP, filename=/home/ckeller/data/emis/MEGAN/nc/MEGANv2.1_AEF.geos.1x1.nc, var_name=AEF_ISOPRENE, ndim=2, units=kgC/m2/s, timeslicer=1985/1/1/0, species=ISOP, category=1, hierarchy=1, datafield=None, scale_factors=List of 0 EmissionScale or EmssionMask:\n",
        ")\n",
        "EmissionBase(name=MEGAN_AEF_ACET, filename=/home/ckeller/data/emis/MEGAN/nc/MEGANv2.1_AEF.geos.1x1.nc, var_name=AEF_ACETONE, ndim=2, units=kgC/m2/s, timeslicer=1985/1/1/0, species=ACET, category=1, hierarchy=1, datafield=None, scale_factors=List of 0 EmissionScale or EmssionMask:\n",
        ")\n"
       ]
      }
     ],
     "prompt_number": 39
    },
    {
     "cell_type": "markdown",
     "metadata": {},
     "source": [
      "Get all base emission fields in the HEMCO configuration: "
     ]
    },
    {
     "cell_type": "code",
     "collapsed": false,
     "input": [
      "all_bef = hemco_setup.base_emission_fields\n",
      "\n",
      "# get the names of the base emission fields\n",
      "print all_bef.keys"
     ],
     "language": "python",
     "metadata": {},
     "outputs": [
      {
       "output_type": "stream",
       "stream": "stdout",
       "text": [
        "['GEIA_ALK4', 'GEIA_ACET', 'GEIA_PRPE', 'GEIA_MEK', 'GEIA_NH3_ANTH', 'GEIA_NH3_BIOF', 'GEIA_NH3_NATU', 'EDGAR_NO__F1', 'EDGAR_NO__F2', 'EDGAR_NO__F3', 'EDGAR_NO__F4', 'EDGAR_NO__F51', 'EDGAR_NO__F54', 'EDGAR_NO__F8', 'EDGAR_NO__I1', 'EDGAR_NO__I3', 'EDGAR_NO__I4', 'EDGAR_NO__I5', 'EDGAR_NO__W4', 'EDGAR_CO__F1', 'EDGAR_CO__F2', 'EDGAR_CO__F3', 'EDGAR_CO__F4', 'EDGAR_CO__F51', 'EDGAR_CO__F54', 'EDGAR_CO__F57', 'EDGAR_CO__F8', 'EDGAR_CO__I1', 'EDGAR_CO__I2', 'EDGAR_CO__I5', 'EDGAR_CO__W4', 'EDGAR_SO2__F1', 'EDGAR_SO2__F2', 'EDGAR_SO2__F3', 'EDGAR_SO2__F4', 'EDGAR_SO2__F51', 'EDGAR_SO2__F54', 'EDGAR_SO2__F57', 'EDGAR_SO2__F8', 'EDGAR_SO2__I1', 'EDGAR_SO2__I2', 'EDGAR_SO2__I3', 'EDGAR_SO2__I4', 'EDGAR_SO2__I5', 'EDGAR_SO2__W4', 'BIOFUEL_NO', 'BIOFUEL_CO', 'BIOFUEL_SO2', 'BIOFUEL_GLYX', 'BIOFUEL_MGLY', 'BIOFUEL_GLYC', 'BIOFUEL_HAC', 'RETRO_ALK4', 'RETRO_ALK4', 'RETRO_ALK4', 'RETRO_ACET', 'RETRO_MEK', 'RETRO_ALD2', 'RETRO_PRPE', 'RETRO_C3H8', 'RETRO_CH2O', 'RETRO_BENZ', 'RETRO_TOLU', 'RETRO_XYLE', 'RETRO_C2H4', 'RETRO_C2H2', 'XIAO_C2H26', 'EMEP_NO', 'EMEP_CO', 'EMEP_SO2', 'EMEP_NH3', 'EMEP_ALK4', 'EMEP_ALD2', 'EMEP_PRPE', 'EMEP_MEK', 'BRAVO_NO', 'BRAVO_CO', 'BRAVO_SO2', 'CAC_NO', 'CAC_CO', 'CAC_SO2', 'CAC_NH3', 'ZHANG_NO__IND', 'ZHANG_NO__POW', 'ZHANG_NO__RES', 'ZHANG_NO__TRA', 'ZHANG_CO__IND', 'ZHANG_CO__POW', 'ZHANG_CO__RES', 'ZHANG_CO__TRA', 'ZHANG_SO2__IND', 'ZHANG_SO2__POW', 'ZHANG_SO2__RES', 'ZHANG_SO2__TRA', 'ZHANG_C3H8__DOB', 'ZHANG_C3H8__DOF', 'ZHANG_C3H8__DOP', 'ZHANG_C3H8__IND', 'ZHANG_C3H8__POW', 'ZHANG_C3H8__TRA', 'ZHANG_CH2O__DOB', 'ZHANG_CH2O__DOF', 'ZHANG_CH2O__DOP', 'ZHANG_CH2O__IND', 'ZHANG_CH2O__POW', 'ZHANG_CH2O__TRA', 'ZHANG_ALK4__DOB', 'ZHANG_ALK4__DOF', 'ZHANG_ALK4__DOP', 'ZHANG_ALK4__IND', 'ZHANG_ALK4__POW', 'ZHANG_ALK4__TRA', 'ZHANG_ACET__DOB', 'ZHANG_ACET__DOF', 'ZHANG_ACET__DOP', 'ZHANG_ACET__IND', 'ZHANG_ACET__POW', 'ZHANG_ACET__TRA', 'ZHANG_MEK__DOB', 'ZHANG_MEK__DOF', 'ZHANG_MEK__DOP', 'ZHANG_MEK__IND', 'ZHANG_MEK__POW', 'ZHANG_MEK__TRA', 'ZHANG_ALD2__DOB', 'ZHANG_ALD2__DOF', 'ZHANG_ALD2__DOP', 'ZHANG_ALD2__IND', 'ZHANG_ALD2__POW', 'ZHANG_ALD2__TRA', 'ZHANG_PRPE__DOB', 'ZHANG_PRPE__DOF', 'ZHANG_PRPE__DOP', 'ZHANG_PRPE__IND', 'ZHANG_PRPE__POW', 'ZHANG_PRPE__TRA', 'STREETS_NH3', 'LIANG_CHBR3', 'LIANG_CH2BR2', 'ICOADS_SHIP_SO2', 'ICOADS_SHIP_CO', 'EMEP_SHIP_CO', 'EMEP_SHIP_SO2', 'BOND_ANTH_BCPI', 'BOND_ANTH_BCPO', 'BOND_ANTH_OCPI', 'BOND_ANTH_OCPO', 'BOND_BF_BCPI', 'BOND_BF_BCPO', 'BOND_BF_OCPI', 'BOND_BF_OCPO', 'BOND_BIOMASS_BCPI', 'BOND_BIOMASS_BCPO', 'BOND_BIOMASS_OCPI', 'BOND_BIOMASS_OCPO', 'VOLCANO_SO2', 'AEIC_NO', 'AEIC_CO', 'AEIC_SO2', 'AEIC_SO4', 'AEIC_BC', 'AEIC_OC', 'AEIC_ACET', 'AEIC_ALD2', 'AEIC_ALK4', 'AEIC_C2H6', 'AEIC_C3H8', 'AEIC_CH2O', 'AEIC_PRPE', 'AEIC_MACR', 'AEIC_RCHO', 'GFED3_NO_AGW', 'GFED3_NO_DEFA', 'GFED3_NO_DEFB', 'GFED3_NO_FOR', 'GFED3_NO_PET', 'GFED3_NO_SAV', 'GFED3_NO_WDL', 'GFED3_CO_AGW', 'GFED3_CO_DEFA', 'GFED3_CO_DEFB', 'GFED3_CO_FOR', 'GFED3_CO_PET', 'GFED3_CO_SAV', 'GFED3_CO_WDL', 'GFED3_ALK4_AGW', 'GFED3_ALK4_DEFA', 'GFED3_ALK4_DEFB', 'GFED3_ALK4_FOR', 'GFED3_ALK4_PET', 'GFED3_ALK4_SAV', 'GFED3_ALK4_WDL', 'GFED3_ACET_AGW', 'GFED3_ACET_DEFA', 'GFED3_ACET_DEFB', 'GFED3_ACET_FOR', 'GFED3_ACET_PET', 'GFED3_ACET_SAV', 'GFED3_ACET_WDL', 'GFED3_MEK_AGW', 'GFED3_MEK_DEFA', 'GFED3_MEK_DEFB', 'GFED3_MEK_FOR', 'GFED3_MEK_PET', 'GFED3_MEK_SAV', 'GFED3_MEK_WDL', 'GFED3_ALD2_AGW', 'GFED3_ALD2_DEFA', 'GFED3_ALD2_DEFB', 'GFED3_ALD2_FOR', 'GFED3_ALD2_PET', 'GFED3_ALD2_SAV', 'GFED3_ALD2_WDL', 'GFED3_PRPE_AGW', 'GFED3_PRPE_DEFA', 'GFED3_PRPE_DEFB', 'GFED3_PRPE_FOR', 'GFED3_PRPE_PET', 'GFED3_PRPE_SAV', 'GFED3_PRPE_WDL', 'GFED3_C3H8_AGW', 'GFED3_C3H8_DEFA', 'GFED3_C3H8_DEFB', 'GFED3_C3H8_FOR', 'GFED3_C3H8_PET', 'GFED3_C3H8_SAV', 'GFED3_C3H8_WDL', 'GFED3_CH2O_AGW', 'GFED3_CH2O_DEFA', 'GFED3_CH2O_DEFB', 'GFED3_CH2O_FOR', 'GFED3_CH2O_PET', 'GFED3_CH2O_SAV', 'GFED3_CH2O_WDL', 'GFED3_C2H6_AGW', 'GFED3_C2H6_DEFA', 'GFED3_C2H6_DEFB', 'GFED3_C2H6_FOR', 'GFED3_C2H6_PET', 'GFED3_C2H6_SAV', 'GFED3_C2H6_WDL', 'GFED3_GLYX_AGW', 'GFED3_GLYX_DEFA', 'GFED3_GLYX_DEFB', 'GFED3_GLYX_FOR', 'GFED3_GLYX_PET', 'GFED3_GLYX_SAV', 'GFED3_GLYX_WDL', 'GFED3_MGLY_AGW', 'GFED3_MGLY_DEFA', 'GFED3_MGLY_DEFB', 'GFED3_MGLY_FOR', 'GFED3_MGLY_PET', 'GFED3_MGLY_SAV', 'GFED3_MGLY_WDL', 'GFED3_BENZ_AGW', 'GFED3_BENZ_DEFA', 'GFED3_BENZ_DEFB', 'GFED3_BENZ_FOR', 'GFED3_BENZ_PET', 'GFED3_BENZ_SAV', 'GFED3_BENZ_WDL', 'GFED3_TOLU_AGW', 'GFED3_TOLU_DEFA', 'GFED3_TOLU_DEFB', 'GFED3_TOLU_FOR', 'GFED3_TOLU_PET', 'GFED3_TOLU_SAV', 'GFED3_TOLU_WDL', 'GFED3_XYLE_AGW', 'GFED3_XYLE_DEFA', 'GFED3_XYLE_DEFB', 'GFED3_XYLE_FOR', 'GFED3_XYLE_PET', 'GFED3_XYLE_SAV', 'GFED3_XYLE_WDL', 'GFED3_C2H4_AGW', 'GFED3_C2H4_DEFA', 'GFED3_C2H4_DEFB', 'GFED3_C2H4_FOR', 'GFED3_C2H4_PET', 'GFED3_C2H4_SAV', 'GFED3_C2H4_WDL', 'GFED3_C2H2_AGW', 'GFED3_C2H2_DEFA', 'GFED3_C2H2_DEFB', 'GFED3_C2H2_FOR', 'GFED3_C2H2_PET', 'GFED3_C2H2_SAV', 'GFED3_C2H2_WDL', 'GFED3_CO2_AGW', 'GFED3_CO2_DEFA', 'GFED3_CO2_DEFB', 'GFED3_CO2_FOR', 'GFED3_CO2_PET', 'GFED3_CO2_SAV', 'GFED3_CO2_WDL', 'GFED3_CH4_AGW', 'GFED3_CH4_DEFA', 'GFED3_CH4_DEFB', 'GFED3_CH4_FOR', 'GFED3_CH4_PET', 'GFED3_CH4_SAV', 'GFED3_CH4_WDL']\n"
       ]
      }
     ],
     "prompt_number": 40
    },
    {
     "cell_type": "code",
     "collapsed": false,
     "input": [],
     "language": "python",
     "metadata": {},
     "outputs": []
    }
   ],
   "metadata": {}
  }
 ]
}