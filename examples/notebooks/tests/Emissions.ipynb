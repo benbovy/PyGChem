{
 "metadata": {
  "name": "",
  "signature": "sha256:1602aa8547c1c3cf07b0693d9e5ae7f8b81fab69f2ad3637ebd005edd66c6de0"
 },
 "nbformat": 3,
 "nbformat_minor": 0,
 "worksheets": [
  {
   "cells": [
    {
     "cell_type": "code",
     "collapsed": false,
     "input": [
      "from pygchem import emissions"
     ],
     "language": "python",
     "metadata": {},
     "outputs": [],
     "prompt_number": 1
    },
    {
     "cell_type": "code",
     "collapsed": false,
     "input": [
      "bef_test = emissions.EmissionBase('name', 'file.nc', 'the var name', 3, 'm', '*/*/*/*', 'O3', 2, 2)\n",
      "bef_test"
     ],
     "language": "python",
     "metadata": {},
     "outputs": [
      {
       "metadata": {},
       "output_type": "pyout",
       "prompt_number": 2,
       "text": [
        "EmissionBase(name=name, filename=file.nc, var_name=the var name, ndim=3, units=m, timeslicer=*/*/*/*, species=O3, category=2, hierarchy=2, datafield=None, scale_factors=List of 0 EmissionScale or EmssionMask:\n",
        ")"
       ]
      }
     ],
     "prompt_number": 2
    },
    {
     "cell_type": "code",
     "collapsed": false,
     "input": [
      "sf_test = emissions.EmissionScale('name_sf', 'file2.nc', 'another var name', 3, 'km', '*/*/*/*',\n",
      "                                  operator=':')\n",
      "sf_test"
     ],
     "language": "python",
     "metadata": {},
     "outputs": [
      {
       "metadata": {},
       "output_type": "pyout",
       "prompt_number": 3,
       "text": [
        "EmissionScale(name=name_sf, filename=file2.nc, var_name=another var name, ndim=3, units=km, timeslicer=*/*/*/*, datafield=None, operator=:, fid=None)"
       ]
      }
     ],
     "prompt_number": 3
    },
    {
     "cell_type": "code",
     "collapsed": false,
     "input": [
      "bef_test.scale_factors.append(sf_test)\n",
      "bef_test"
     ],
     "language": "python",
     "metadata": {},
     "outputs": [
      {
       "metadata": {},
       "output_type": "pyout",
       "prompt_number": 4,
       "text": [
        "EmissionBase(name=name, filename=file.nc, var_name=the var name, ndim=3, units=m, timeslicer=*/*/*/*, species=O3, category=2, hierarchy=2, datafield=None, scale_factors=List of 1 EmissionScale or EmssionMask:\n",
        "EmissionScale(name=name_sf, filename=file2.nc, var_name=another var name, ndim=3, units=km, timeslicer=*/*/*/*, datafield=None, operator=:, fid=None))"
       ]
      }
     ],
     "prompt_number": 4
    },
    {
     "cell_type": "code",
     "collapsed": false,
     "input": [
      "print bef_test.scale_factors"
     ],
     "language": "python",
     "metadata": {},
     "outputs": [
      {
       "output_type": "stream",
       "stream": "stdout",
       "text": [
        "List of 1 EmissionScale or EmssionMask:\n",
        "EmissionScale(name=name_sf, filename=file2.nc, var_name=another var name, ndim=3, units=km, timeslicer=*/*/*/*, datafield=None, operator=:, fid=None)\n"
       ]
      }
     ],
     "prompt_number": 5
    },
    {
     "cell_type": "code",
     "collapsed": false,
     "input": [],
     "language": "python",
     "metadata": {},
     "outputs": [],
     "prompt_number": 5
    },
    {
     "cell_type": "code",
     "collapsed": false,
     "input": [
      "%timeit emissions.load_setup('../../data/HEMCO_test')"
     ],
     "language": "python",
     "metadata": {},
     "outputs": [
      {
       "output_type": "stream",
       "stream": "stdout",
       "text": [
        "10 loops, best of 3: 51.6 ms per loop\n"
       ]
      }
     ],
     "prompt_number": 9
    },
    {
     "cell_type": "code",
     "collapsed": false,
     "input": [
      "test_setup = emissions.load_setup('../../data/HEMCO_test')"
     ],
     "language": "python",
     "metadata": {},
     "outputs": [],
     "prompt_number": 7
    },
    {
     "cell_type": "code",
     "collapsed": false,
     "input": [
      "print test_setup"
     ],
     "language": "python",
     "metadata": {},
     "outputs": [
      {
       "output_type": "stream",
       "stream": "stdout",
       "text": [
        "HEMCO settings: setup imported from file '../../data/HEMCO_test'\n"
       ]
      }
     ],
     "prompt_number": 8
    },
    {
     "cell_type": "code",
     "collapsed": false,
     "input": [
      "test_setup.extensions.keys"
     ],
     "language": "python",
     "metadata": {},
     "outputs": [
      {
       "metadata": {},
       "output_type": "pyout",
       "prompt_number": 15,
       "text": [
        "['Custom',\n",
        " 'SeaFlux',\n",
        " 'ParaNOx',\n",
        " 'LightNOx',\n",
        " 'SoilNOx',\n",
        " 'DustDead',\n",
        " 'DustGinoux',\n",
        " 'SeaSalt',\n",
        " 'MEGAN',\n",
        " 'MEGAN_Mono',\n",
        " 'MEGAN_SOA',\n",
        " 'Core']"
       ]
      }
     ],
     "prompt_number": 15
    },
    {
     "cell_type": "code",
     "collapsed": false,
     "input": [
      "test_setup.extensions.select_item('ParaNOx').extension_data.keys"
     ],
     "language": "python",
     "metadata": {},
     "outputs": [
      {
       "metadata": {},
       "output_type": "pyout",
       "prompt_number": 18,
       "text": [
        "['ICOADS_SHIP_NO', 'EDGAR_SHIP_NO', 'EMEP_SHIP_NO']"
       ]
      }
     ],
     "prompt_number": 18
    },
    {
     "cell_type": "code",
     "collapsed": false,
     "input": [],
     "language": "python",
     "metadata": {},
     "outputs": []
    }
   ],
   "metadata": {}
  }
 ]
}