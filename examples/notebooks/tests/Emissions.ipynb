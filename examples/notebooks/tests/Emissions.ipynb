{
 "metadata": {
  "name": "",
  "signature": "sha256:65b634070014c533c0c4b7c922642d5357cbef677f4fa6ce220584a74212d2aa"
 },
 "nbformat": 3,
 "nbformat_minor": 0,
 "worksheets": [
  {
   "cells": [
    {
     "cell_type": "code",
     "collapsed": false,
     "input": [
      "from pygchem import emissions"
     ],
     "language": "python",
     "metadata": {},
     "outputs": [],
     "prompt_number": 1
    },
    {
     "cell_type": "code",
     "collapsed": false,
     "input": [
      "bef_test = emissions.EmissionBase('name', 'file.nc', 'the var name', 3, 'm', '*/*/*/*', 'O3', 2, 2)\n",
      "bef_test"
     ],
     "language": "python",
     "metadata": {},
     "outputs": [
      {
       "metadata": {},
       "output_type": "pyout",
       "prompt_number": 2,
       "text": [
        "EmissionBase(name=name, filename=file.nc, var_name=the var name, ndim=3, units=m, timeslicer=*/*/*/*, species=O3, category=2, hierarchy=2, datafield=None, scale_factors=List of 0 EmissionScale or EmssionMask:\n",
        ")"
       ]
      }
     ],
     "prompt_number": 2
    },
    {
     "cell_type": "code",
     "collapsed": false,
     "input": [
      "sf_test = emissions.EmissionScale('name_sf', 'file2.nc', 'another var name', 3, 'km', '*/*/*/*',\n",
      "                                  operator=':')\n",
      "sf_test"
     ],
     "language": "python",
     "metadata": {},
     "outputs": [
      {
       "metadata": {},
       "output_type": "pyout",
       "prompt_number": 3,
       "text": [
        "EmissionScale(name=name_sf, filename=file2.nc, var_name=another var name, ndim=3, units=km, timeslicer=*/*/*/*, datafield=None, operator=:, fid=None)"
       ]
      }
     ],
     "prompt_number": 3
    },
    {
     "cell_type": "code",
     "collapsed": false,
     "input": [
      "bef_test.scale_factors.append(sf_test)\n",
      "bef_test"
     ],
     "language": "python",
     "metadata": {},
     "outputs": [
      {
       "metadata": {},
       "output_type": "pyout",
       "prompt_number": 4,
       "text": [
        "EmissionBase(name=name, filename=file.nc, var_name=the var name, ndim=3, units=m, timeslicer=*/*/*/*, species=O3, category=2, hierarchy=2, datafield=None, scale_factors=List of 1 EmissionScale or EmssionMask:\n",
        "EmissionScale(name=name_sf, filename=file2.nc, var_name=another var name, ndim=3, units=km, timeslicer=*/*/*/*, datafield=None, operator=:, fid=None))"
       ]
      }
     ],
     "prompt_number": 4
    },
    {
     "cell_type": "code",
     "collapsed": false,
     "input": [
      "print bef_test.scale_factors"
     ],
     "language": "python",
     "metadata": {},
     "outputs": [
      {
       "output_type": "stream",
       "stream": "stdout",
       "text": [
        "List of 1 EmissionScale or EmssionMask:\n",
        "EmissionScale(name=name_sf, filename=file2.nc, var_name=another var name, ndim=3, units=km, timeslicer=*/*/*/*, datafield=None, operator=:, fid=None)\n"
       ]
      }
     ],
     "prompt_number": 5
    },
    {
     "cell_type": "code",
     "collapsed": false,
     "input": [],
     "language": "python",
     "metadata": {},
     "outputs": [],
     "prompt_number": 5
    },
    {
     "cell_type": "code",
     "collapsed": false,
     "input": [
      "%timeit emissions.load_setup('../../data/HEMCO_test')"
     ],
     "language": "python",
     "metadata": {},
     "outputs": [
      {
       "output_type": "stream",
       "stream": "stdout",
       "text": [
        "10 loops, best of 3: 52.1 ms per loop\n"
       ]
      }
     ],
     "prompt_number": 6
    },
    {
     "cell_type": "code",
     "collapsed": false,
     "input": [
      "test_setup = emissions.load_setup('../../data/HEMCO_test')"
     ],
     "language": "python",
     "metadata": {},
     "outputs": [],
     "prompt_number": 7
    },
    {
     "cell_type": "code",
     "collapsed": false,
     "input": [
      "print test_setup"
     ],
     "language": "python",
     "metadata": {},
     "outputs": [
      {
       "output_type": "stream",
       "stream": "stdout",
       "text": [
        "HEMCO settings: setup imported from file '../../data/HEMCO_test'\n"
       ]
      }
     ],
     "prompt_number": 8
    },
    {
     "cell_type": "code",
     "collapsed": false,
     "input": [
      "test_setup.extensions.keys"
     ],
     "language": "python",
     "metadata": {},
     "outputs": [
      {
       "metadata": {},
       "output_type": "pyout",
       "prompt_number": 9,
       "text": [
        "['Custom',\n",
        " 'SeaFlux',\n",
        " 'ParaNOx',\n",
        " 'LightNOx',\n",
        " 'SoilNOx',\n",
        " 'DustDead',\n",
        " 'DustGinoux',\n",
        " 'SeaSalt',\n",
        " 'MEGAN',\n",
        " 'MEGAN_Mono',\n",
        " 'MEGAN_SOA',\n",
        " 'Core']"
       ]
      }
     ],
     "prompt_number": 9
    },
    {
     "cell_type": "code",
     "collapsed": false,
     "input": [
      "test_setup.extensions.select_item('ParaNOx').extension_data.keys"
     ],
     "language": "python",
     "metadata": {},
     "outputs": [
      {
       "metadata": {},
       "output_type": "pyout",
       "prompt_number": 10,
       "text": [
        "['ICOADS_SHIP_NO', 'EDGAR_SHIP_NO', 'EMEP_SHIP_NO']"
       ]
      }
     ],
     "prompt_number": 10
    },
    {
     "cell_type": "code",
     "collapsed": false,
     "input": [
      "test_bef = test_setup.base_emission_fields[0]\n",
      "test_bef"
     ],
     "language": "python",
     "metadata": {},
     "outputs": [
      {
       "metadata": {},
       "output_type": "pyout",
       "prompt_number": 11,
       "text": [
        "EmissionBase(name=GEIA_ALK4, filename=/home/ckeller/data/emis/GEIA/nc/GEIA_FOSSIL.geos.1x1.nc, var_name=ALK4, ndim=2, units=kg/m2/s, timeslicer=1985/1/1/0, species=ALK4, category=1, hierarchy=1, datafield=None, scale_factors=List of 4 EmissionScale or EmssionMask:\n",
        "EmissionScale(name=LIQFUEL_THISYR, filename=/home/ckeller/data/emis/AnnualScalar/nc/CO-AnnualScalar.201105-Fix.geos.1x1.nc, var_name=COscalar, ndim=2, units=unitless, timeslicer=1985-2008/1/1/0, datafield=None, operator=1, fid=6)\n",
        "EmissionScale(name=LIQFUEL_1985, filename=/home/ckeller/data/emis/AnnualScalar/nc/CO-AnnualScalar.201105-Fix.geos.1x1.nc, var_name=COscalar, ndim=2, units=unitless, timeslicer=1985/1/1/0, datafield=None, operator=-1, fid=7)\n",
        "EmissionScale(name=GEIA_DOW_HC, filename=None, var_name=None, ndim=2, units=unitless, timeslicer=None, datafield=[ 0.671   1.1102  1.1102  1.1102  1.1102  1.1102  0.768 ], operator=1, fid=22)\n",
        "EmissionScale(name=GEIA_TOD_FOSSIL, filename=None, var_name=None, ndim=2, units=unitless, timeslicer=None, datafield=[ 0.45  0.45  0.6   0.6   0.6   0.6   1.45  1.45  1.45  1.45  1.4   1.4\n",
        "  1.4   1.4   1.45  1.45  1.45  1.45  0.65  0.65  0.65  0.65  0.45  0.45], operator=1, fid=26))"
       ]
      }
     ],
     "prompt_number": 11
    },
    {
     "cell_type": "code",
     "collapsed": false,
     "input": [
      "emissions.load_emission_data(test_bef)"
     ],
     "language": "python",
     "metadata": {},
     "outputs": [
      {
       "ename": "IOError",
       "evalue": "One or more of the files specified did not exist ['/home/ckeller/data/emis/GEIA/nc/GEIA_FOSSIL.geos.1x1.nc expanded to empty'].",
       "output_type": "pyerr",
       "traceback": [
        "\u001b[1;31m---------------------------------------------------------------------------\u001b[0m\n\u001b[1;31mIOError\u001b[0m                                   Traceback (most recent call last)",
        "\u001b[1;32m<ipython-input-12-626ee6835e16>\u001b[0m in \u001b[0;36m<module>\u001b[1;34m()\u001b[0m\n\u001b[1;32m----> 1\u001b[1;33m \u001b[0memissions\u001b[0m\u001b[1;33m.\u001b[0m\u001b[0mload_emission_data\u001b[0m\u001b[1;33m(\u001b[0m\u001b[0mtest_bef\u001b[0m\u001b[1;33m)\u001b[0m\u001b[1;33m\u001b[0m\u001b[0m\n\u001b[0m",
        "\u001b[1;32m/mnt/hgfs/Altair/GitRepos/PyGChem/pygchem/emissions.pyc\u001b[0m in \u001b[0;36mload_emission_data\u001b[1;34m(emission_fields, return_data)\u001b[0m\n\u001b[0;32m    195\u001b[0m         )\n\u001b[0;32m    196\u001b[0m         \u001b[1;32mif\u001b[0m \u001b[0mefield\u001b[0m\u001b[1;33m.\u001b[0m\u001b[0mfilename\u001b[0m \u001b[1;32mis\u001b[0m \u001b[1;32mnot\u001b[0m \u001b[0mNone\u001b[0m\u001b[1;33m:\u001b[0m\u001b[1;33m\u001b[0m\u001b[0m\n\u001b[1;32m--> 197\u001b[1;33m             \u001b[0mdfield\u001b[0m \u001b[1;33m=\u001b[0m \u001b[0mdatafields\u001b[0m\u001b[1;33m.\u001b[0m\u001b[0mload\u001b[0m\u001b[1;33m(\u001b[0m\u001b[0mefield\u001b[0m\u001b[1;33m.\u001b[0m\u001b[0mfilename\u001b[0m\u001b[1;33m,\u001b[0m \u001b[0mconstraint\u001b[0m\u001b[1;33m)\u001b[0m\u001b[1;33m\u001b[0m\u001b[0m\n\u001b[0m\u001b[0;32m    198\u001b[0m         \u001b[1;32melse\u001b[0m\u001b[1;33m:\u001b[0m\u001b[1;33m\u001b[0m\u001b[0m\n\u001b[0;32m    199\u001b[0m             \u001b[0mdfield\u001b[0m \u001b[1;33m=\u001b[0m \u001b[0mNone\u001b[0m\u001b[1;33m\u001b[0m\u001b[0m\n",
        "\u001b[1;32m/home/benbovy/PythonEnvs/pygchem_py27_2/lib/python2.7/site-packages/iris/__init__.pyc\u001b[0m in \u001b[0;36mload\u001b[1;34m(uris, constraints, callback)\u001b[0m\n\u001b[0;32m    277\u001b[0m \u001b[1;33m\u001b[0m\u001b[0m\n\u001b[0;32m    278\u001b[0m     \"\"\"\n\u001b[1;32m--> 279\u001b[1;33m     \u001b[1;32mreturn\u001b[0m \u001b[0m_load_collection\u001b[0m\u001b[1;33m(\u001b[0m\u001b[0muris\u001b[0m\u001b[1;33m,\u001b[0m \u001b[0mconstraints\u001b[0m\u001b[1;33m,\u001b[0m \u001b[0mcallback\u001b[0m\u001b[1;33m)\u001b[0m\u001b[1;33m.\u001b[0m\u001b[0mmerged\u001b[0m\u001b[1;33m(\u001b[0m\u001b[1;33m)\u001b[0m\u001b[1;33m.\u001b[0m\u001b[0mcubes\u001b[0m\u001b[1;33m(\u001b[0m\u001b[1;33m)\u001b[0m\u001b[1;33m\u001b[0m\u001b[0m\n\u001b[0m\u001b[0;32m    280\u001b[0m \u001b[1;33m\u001b[0m\u001b[0m\n\u001b[0;32m    281\u001b[0m \u001b[1;33m\u001b[0m\u001b[0m\n",
        "\u001b[1;32m/home/benbovy/PythonEnvs/pygchem_py27_2/lib/python2.7/site-packages/iris/__init__.pyc\u001b[0m in \u001b[0;36m_load_collection\u001b[1;34m(uris, constraints, callback)\u001b[0m\n\u001b[0;32m    247\u001b[0m     \u001b[1;32mtry\u001b[0m\u001b[1;33m:\u001b[0m\u001b[1;33m\u001b[0m\u001b[0m\n\u001b[0;32m    248\u001b[0m         \u001b[0mcubes\u001b[0m \u001b[1;33m=\u001b[0m \u001b[0m_generate_cubes\u001b[0m\u001b[1;33m(\u001b[0m\u001b[0muris\u001b[0m\u001b[1;33m,\u001b[0m \u001b[0mcallback\u001b[0m\u001b[1;33m)\u001b[0m\u001b[1;33m\u001b[0m\u001b[0m\n\u001b[1;32m--> 249\u001b[1;33m         \u001b[0mresult\u001b[0m \u001b[1;33m=\u001b[0m \u001b[0miris\u001b[0m\u001b[1;33m.\u001b[0m\u001b[0mcube\u001b[0m\u001b[1;33m.\u001b[0m\u001b[0m_CubeFilterCollection\u001b[0m\u001b[1;33m.\u001b[0m\u001b[0mfrom_cubes\u001b[0m\u001b[1;33m(\u001b[0m\u001b[0mcubes\u001b[0m\u001b[1;33m,\u001b[0m \u001b[0mconstraints\u001b[0m\u001b[1;33m)\u001b[0m\u001b[1;33m\u001b[0m\u001b[0m\n\u001b[0m\u001b[0;32m    250\u001b[0m     \u001b[1;32mexcept\u001b[0m \u001b[0mEOFError\u001b[0m \u001b[1;32mas\u001b[0m \u001b[0me\u001b[0m\u001b[1;33m:\u001b[0m\u001b[1;33m\u001b[0m\u001b[0m\n\u001b[0;32m    251\u001b[0m         raise iris.exceptions.TranslationError(\n",
        "\u001b[1;32m/home/benbovy/PythonEnvs/pygchem_py27_2/lib/python2.7/site-packages/iris/cube.pyc\u001b[0m in \u001b[0;36mfrom_cubes\u001b[1;34m(cubes, constraints)\u001b[0m\n\u001b[0;32m    134\u001b[0m         \u001b[0mpairs\u001b[0m \u001b[1;33m=\u001b[0m \u001b[1;33m[\u001b[0m\u001b[0m_CubeFilter\u001b[0m\u001b[1;33m(\u001b[0m\u001b[0mconstraint\u001b[0m\u001b[1;33m)\u001b[0m \u001b[1;32mfor\u001b[0m \u001b[0mconstraint\u001b[0m \u001b[1;32min\u001b[0m \u001b[0mconstraints\u001b[0m\u001b[1;33m]\u001b[0m\u001b[1;33m\u001b[0m\u001b[0m\n\u001b[0;32m    135\u001b[0m         \u001b[0mcollection\u001b[0m \u001b[1;33m=\u001b[0m \u001b[0m_CubeFilterCollection\u001b[0m\u001b[1;33m(\u001b[0m\u001b[0mpairs\u001b[0m\u001b[1;33m)\u001b[0m\u001b[1;33m\u001b[0m\u001b[0m\n\u001b[1;32m--> 136\u001b[1;33m         \u001b[1;32mfor\u001b[0m \u001b[0mcube\u001b[0m \u001b[1;32min\u001b[0m \u001b[0mcubes\u001b[0m\u001b[1;33m:\u001b[0m\u001b[1;33m\u001b[0m\u001b[0m\n\u001b[0m\u001b[0;32m    137\u001b[0m             \u001b[0mcollection\u001b[0m\u001b[1;33m.\u001b[0m\u001b[0madd_cube\u001b[0m\u001b[1;33m(\u001b[0m\u001b[0mcube\u001b[0m\u001b[1;33m)\u001b[0m\u001b[1;33m\u001b[0m\u001b[0m\n\u001b[0;32m    138\u001b[0m         \u001b[1;32mreturn\u001b[0m \u001b[0mcollection\u001b[0m\u001b[1;33m\u001b[0m\u001b[0m\n",
        "\u001b[1;32m/home/benbovy/PythonEnvs/pygchem_py27_2/lib/python2.7/site-packages/iris/__init__.pyc\u001b[0m in \u001b[0;36m_generate_cubes\u001b[1;34m(uris, callback)\u001b[0m\n\u001b[0;32m    234\u001b[0m         \u001b[1;32mif\u001b[0m \u001b[0mscheme\u001b[0m \u001b[1;33m==\u001b[0m \u001b[1;34m'file'\u001b[0m\u001b[1;33m:\u001b[0m\u001b[1;33m\u001b[0m\u001b[0m\n\u001b[0;32m    235\u001b[0m             \u001b[0mpart_names\u001b[0m \u001b[1;33m=\u001b[0m \u001b[1;33m[\u001b[0m\u001b[0mx\u001b[0m\u001b[1;33m[\u001b[0m\u001b[1;36m1\u001b[0m\u001b[1;33m]\u001b[0m \u001b[1;32mfor\u001b[0m \u001b[0mx\u001b[0m \u001b[1;32min\u001b[0m \u001b[0mgroups\u001b[0m\u001b[1;33m]\u001b[0m\u001b[1;33m\u001b[0m\u001b[0m\n\u001b[1;32m--> 236\u001b[1;33m             \u001b[1;32mfor\u001b[0m \u001b[0mcube\u001b[0m \u001b[1;32min\u001b[0m \u001b[0miris\u001b[0m\u001b[1;33m.\u001b[0m\u001b[0mio\u001b[0m\u001b[1;33m.\u001b[0m\u001b[0mload_files\u001b[0m\u001b[1;33m(\u001b[0m\u001b[0mpart_names\u001b[0m\u001b[1;33m,\u001b[0m \u001b[0mcallback\u001b[0m\u001b[1;33m)\u001b[0m\u001b[1;33m:\u001b[0m\u001b[1;33m\u001b[0m\u001b[0m\n\u001b[0m\u001b[0;32m    237\u001b[0m                 \u001b[1;32myield\u001b[0m \u001b[0mcube\u001b[0m\u001b[1;33m\u001b[0m\u001b[0m\n\u001b[0;32m    238\u001b[0m         \u001b[1;32melif\u001b[0m \u001b[0mscheme\u001b[0m \u001b[1;32min\u001b[0m \u001b[1;33m[\u001b[0m\u001b[1;34m'http'\u001b[0m\u001b[1;33m,\u001b[0m \u001b[1;34m'https'\u001b[0m\u001b[1;33m]\u001b[0m\u001b[1;33m:\u001b[0m\u001b[1;33m\u001b[0m\u001b[0m\n",
        "\u001b[1;32m/home/benbovy/PythonEnvs/pygchem_py27_2/lib/python2.7/site-packages/iris/io/__init__.pyc\u001b[0m in \u001b[0;36mload_files\u001b[1;34m(filenames, callback)\u001b[0m\n\u001b[0;32m    177\u001b[0m \u001b[1;33m\u001b[0m\u001b[0m\n\u001b[0;32m    178\u001b[0m     \"\"\"\n\u001b[1;32m--> 179\u001b[1;33m     \u001b[0mall_file_paths\u001b[0m \u001b[1;33m=\u001b[0m \u001b[0mexpand_filespecs\u001b[0m\u001b[1;33m(\u001b[0m\u001b[0mfilenames\u001b[0m\u001b[1;33m)\u001b[0m\u001b[1;33m\u001b[0m\u001b[0m\n\u001b[0m\u001b[0;32m    180\u001b[0m \u001b[1;33m\u001b[0m\u001b[0m\n\u001b[0;32m    181\u001b[0m     \u001b[1;31m# Create default dict mapping iris format handler to its associated filenames\u001b[0m\u001b[1;33m\u001b[0m\u001b[1;33m\u001b[0m\u001b[0m\n",
        "\u001b[1;32m/home/benbovy/PythonEnvs/pygchem_py27_2/lib/python2.7/site-packages/iris/io/__init__.pyc\u001b[0m in \u001b[0;36mexpand_filespecs\u001b[1;34m(file_specs)\u001b[0m\n\u001b[0;32m    161\u001b[0m         raise IOError(\"One or more of the files specified did not exist %s.\" %\n\u001b[0;32m    162\u001b[0m         [\"%s expanded to %s\" % (pattern, expanded if expanded else \"empty\")\n\u001b[1;32m--> 163\u001b[1;33m          for pattern, expanded in glob_expanded.iteritems()])\n\u001b[0m\u001b[0;32m    164\u001b[0m \u001b[1;33m\u001b[0m\u001b[0m\n\u001b[0;32m    165\u001b[0m     \u001b[1;32mreturn\u001b[0m \u001b[0msum\u001b[0m\u001b[1;33m(\u001b[0m\u001b[0mvalue_lists\u001b[0m\u001b[1;33m,\u001b[0m \u001b[1;33m[\u001b[0m\u001b[1;33m]\u001b[0m\u001b[1;33m)\u001b[0m\u001b[1;33m\u001b[0m\u001b[0m\n",
        "\u001b[1;31mIOError\u001b[0m: One or more of the files specified did not exist ['/home/ckeller/data/emis/GEIA/nc/GEIA_FOSSIL.geos.1x1.nc expanded to empty']."
       ]
      }
     ],
     "prompt_number": 12
    },
    {
     "cell_type": "code",
     "collapsed": false,
     "input": [],
     "language": "python",
     "metadata": {},
     "outputs": []
    },
    {
     "cell_type": "code",
     "collapsed": false,
     "input": [],
     "language": "python",
     "metadata": {},
     "outputs": []
    }
   ],
   "metadata": {}
  }
 ]
}